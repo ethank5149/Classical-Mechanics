{
 "cells": [
  {
   "cell_type": "code",
   "execution_count": 4,
   "metadata": {},
   "outputs": [],
   "source": [
    "from sympy.physics.mechanics import *\n",
    "import sympy as sp\n",
    "mechanics_printing(pretty_print=True)"
   ]
  },
  {
   "cell_type": "code",
   "execution_count": 5,
   "metadata": {},
   "outputs": [],
   "source": [
    "m, l, l01, l02, k1, k2 = sp.symbols(r'm l l_{0\\,1} l_{0\\,2} k_1 k_2')\n",
    "t, g, h, w = sp.symbols('t g h w')\n",
    "v = dynamicsymbols(r'\\theta')\n",
    "dv = dynamicsymbols(r'\\theta', 1)"
   ]
  },
  {
   "cell_type": "code",
   "execution_count": 6,
   "metadata": {},
   "outputs": [],
   "source": [
    "x = l * sp.sin(v)\n",
    "y = -l * sp.cos(v)\n",
    "\n",
    "dx = x.diff(t)\n",
    "dy = y.diff(t)"
   ]
  },
  {
   "cell_type": "code",
   "execution_count": 4,
   "metadata": {},
   "outputs": [],
   "source": [
    "V = m*g*y + sp.Rational(1,2)*k1*(sp.sqrt((x+w)**2+(y+l)**2)-l01)**2+sp.Rational(1,2)*k2*(sp.sqrt((x-w)**2+(y+l)**2)-l02)**2\n",
    "T = sp.Rational(1,2)*m*(dx**2+dy**2)\n",
    "L = T - V"
   ]
  },
  {
   "cell_type": "code",
   "execution_count": 5,
   "metadata": {},
   "outputs": [],
   "source": [
    "LM = LagrangesMethod(L, [v])"
   ]
  },
  {
   "cell_type": "code",
   "execution_count": 6,
   "metadata": {},
   "outputs": [],
   "source": [
    "soln = LM.form_lagranges_equations()"
   ]
  },
  {
   "cell_type": "code",
   "execution_count": 7,
   "metadata": {},
   "outputs": [],
   "source": [
    "solvedsoln = sp.solve(sp.Eq(soln[0]), v.diff(t,t))"
   ]
  },
  {
   "cell_type": "code",
   "execution_count": 8,
   "metadata": {},
   "outputs": [
    {
     "data": {
      "image/png": "[encoded data removed]",
      "text/latex": "$$\\left [ \\frac{- g m \\operatorname{sin}\\left(\\theta\\right) + \\frac{k_{1} l l_{0,1} \\operatorname{sin}\\left(\\theta\\right)}{\\sqrt{- 2 l^{2} \\operatorname{cos}\\left(\\theta\\right) + 2 l^{2} + 2 l w \\operatorname{sin}\\left(\\theta\\right) + w^{2}}} - k_{1} l \\operatorname{sin}\\left(\\theta\\right) + \\frac{k_{1} l_{0,1} w \\operatorname{cos}\\left(\\theta\\right)}{\\sqrt{- 2 l^{2} \\operatorname{cos}\\left(\\theta\\right) + 2 l^{2} + 2 l w \\operatorname{sin}\\left(\\theta\\right) + w^{2}}} - k_{1} w \\operatorname{cos}\\left(\\theta\\right) + \\frac{k_{2} l l_{0,2} \\operatorname{sin}\\left(\\theta\\right)}{\\sqrt{- 2 l^{2} \\operatorname{cos}\\left(\\theta\\right) + 2 l^{2} - 2 l w \\operatorname{sin}\\left(\\theta\\right) + w^{2}}} - k_{2} l \\operatorname{sin}\\left(\\theta\\right) - \\frac{k_{2} l_{0,2} w \\operatorname{cos}\\left(\\theta\\right)}{\\sqrt{- 2 l^{2} \\operatorname{cos}\\left(\\theta\\right) + 2 l^{2} - 2 l w \\operatorname{sin}\\left(\\theta\\right) + w^{2}}} + k_{2} w \\operatorname{cos}\\left(\\theta\\right)}{l m}\\right ]$$",
      "text/plain": "⎡                                   k₁⋅l⋅l_{0,1}⋅sin(\\theta)                  \n⎢-g⋅m⋅sin(\\theta) + ─────────────────────────────────────────────────────── - \n⎢                      ____________________________________________________   \n⎢                     ╱      2                  2                        2    \n⎢                   ╲╱  - 2⋅l ⋅cos(\\theta) + 2⋅l  + 2⋅l⋅w⋅sin(\\theta) + w     \n⎢─────────────────────────────────────────────────────────────────────────────\n⎣                                                                             \n\n                                   k₁⋅l_{0,1}⋅w⋅cos(\\theta)                   \nk₁⋅l⋅sin(\\theta) + ─────────────────────────────────────────────────────── - k\n                      ____________________________________________________    \n                     ╱      2                  2                        2     \n                   ╲╱  - 2⋅l ⋅cos(\\theta) + 2⋅l  + 2⋅l⋅w⋅sin(\\theta) + w      \n──────────────────────────────────────────────────────────────────────────────\n                                                                              \n\n                                  k₂⋅l⋅l_{0,2}⋅sin(\\theta)                    \n₁⋅w⋅cos(\\theta) + ─────────────────────────────────────────────────────── - k₂\n                     ____________________________________________________     \n                    ╱      2                  2                        2      \n                  ╲╱  - 2⋅l ⋅cos(\\theta) + 2⋅l  - 2⋅l⋅w⋅sin(\\theta) + w       \n──────────────────────────────────────────────────────────────────────────────\n     l⋅m                                                                      \n\n                                 k₂⋅l_{0,2}⋅w⋅cos(\\theta)                     \n⋅l⋅sin(\\theta) - ─────────────────────────────────────────────────────── + k₂⋅\n                    ____________________________________________________      \n                   ╱      2                  2                        2       \n                 ╲╱  - 2⋅l ⋅cos(\\theta) + 2⋅l  - 2⋅l⋅w⋅sin(\\theta) + w        \n──────────────────────────────────────────────────────────────────────────────\n                                                                              \n\n             ⎤\nw⋅cos(\\theta)⎥\n             ⎥\n             ⎥\n             ⎥\n─────────────⎥\n             ⎦"
     },
     "execution_count": 8,
     "metadata": {},
     "output_type": "execute_result"
    }
   ],
   "source": [
    "solvedsoln"
   ]
  },
  {
   "cell_type": "code",
   "execution_count": 9,
   "metadata": {},
   "outputs": [
    {
     "data": {
      "text/plain": "'\\\\left [ \\\\frac{- g m \\\\sin{\\\\left (\\\\theta{\\\\left (t \\\\right )} \\\\right )} + \\\\frac{k_{1} l l_{0,1} \\\\sin{\\\\left (\\\\theta{\\\\left (t \\\\right )} \\\\right )}}{\\\\sqrt{- 2 l^{2} \\\\cos{\\\\left (\\\\theta{\\\\left (t \\\\right )} \\\\right )} + 2 l^{2} + 2 l w \\\\sin{\\\\left (\\\\theta{\\\\left (t \\\\right )} \\\\right )} + w^{2}}} - k_{1} l \\\\sin{\\\\left (\\\\theta{\\\\left (t \\\\right )} \\\\right )} + \\\\frac{k_{1} l_{0,1} w \\\\cos{\\\\left (\\\\theta{\\\\left (t \\\\right )} \\\\right )}}{\\\\sqrt{- 2 l^{2} \\\\cos{\\\\left (\\\\theta{\\\\left (t \\\\right )} \\\\right )} + 2 l^{2} + 2 l w \\\\sin{\\\\left (\\\\theta{\\\\left (t \\\\right )} \\\\right )} + w^{2}}} - k_{1} w \\\\cos{\\\\left (\\\\theta{\\\\left (t \\\\right )} \\\\right )} + \\\\frac{k_{2} l l_{0,2} \\\\sin{\\\\left (\\\\theta{\\\\left (t \\\\right )} \\\\right )}}{\\\\sqrt{- 2 l^{2} \\\\cos{\\\\left (\\\\theta{\\\\left (t \\\\right )} \\\\right )} + 2 l^{2} - 2 l w \\\\sin{\\\\left (\\\\theta{\\\\left (t \\\\right )} \\\\right )} + w^{2}}} - k_{2} l \\\\sin{\\\\left (\\\\theta{\\\\left (t \\\\right )} \\\\right )} - \\\\frac{k_{2} l_{0,2} w \\\\cos{\\\\left (\\\\theta{\\\\left (t \\\\right )} \\\\right )}}{\\\\sqrt{- 2 l^{2} \\\\cos{\\\\left (\\\\theta{\\\\left (t \\\\right )} \\\\right )} + 2 l^{2} - 2 l w \\\\sin{\\\\left (\\\\theta{\\\\left (t \\\\right )} \\\\right )} + w^{2}}} + k_{2} w \\\\cos{\\\\left (\\\\theta{\\\\left (t \\\\right )} \\\\right )}}{l m}\\\\right ]'"
     },
     "execution_count": 9,
     "metadata": {},
     "output_type": "execute_result"
    }
   ],
   "source": [
    "sp.latex(solvedsoln)"
   ]
  },
  {
   "cell_type": "code",
   "execution_count": null,
   "metadata": {},
   "outputs": [],
   "source": []
  }
 ],
 "metadata": {
  "kernelspec": {
   "display_name": "Python 3",
   "language": "python",
   "name": "python3"
  },
  "language_info": {
   "codemirror_mode": {
    "name": "ipython",
    "version": 3
   },
   "file_extension": ".py",
   "mimetype": "text/x-python",
   "name": "python",
   "nbconvert_exporter": "python",
   "pygments_lexer": "ipython3",
   "version": "3.7.3"
  }
 },
 "nbformat": 4,
 "nbformat_minor": 2
}