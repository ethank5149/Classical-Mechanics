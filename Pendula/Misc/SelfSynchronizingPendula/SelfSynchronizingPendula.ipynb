{
 "cells": [
  {
   "cell_type": "code",
   "execution_count": 11,
   "metadata": {},
   "outputs": [],
   "source": [
    "import sympy.physics.mechanics as mech\n",
    "from sympy import S,Rational,pi\n",
    "import sympy as sp"
   ]
  },
  {
   "cell_type": "code",
   "execution_count": 14,
   "metadata": {},
   "outputs": [
    {
     "data": {
      "text/latex": [
       "$\\displaystyle \\left[\\begin{matrix}\\begin{cases} \\frac{2 \\lambda \\left(l \\cos{\\left(\\operatorname{q_{3}}{\\left(t \\right)} \\right)} \\frac{d}{d t} \\operatorname{q_{3}}{\\left(t \\right)} + \\frac{d}{d t} \\operatorname{q_{1}}{\\left(t \\right)}\\right) \\left(\\operatorname{q_{1}}{\\left(t \\right)} - \\operatorname{q_{2}}{\\left(t \\right)}\\right) - k \\left(l_{0} - \\sqrt{\\left(\\operatorname{q_{1}}{\\left(t \\right)} - \\operatorname{q_{2}}{\\left(t \\right)}\\right)^{2}}\\right) \\sqrt{l^{2} \\left(\\frac{d}{d t} \\operatorname{q_{3}}{\\left(t \\right)}\\right)^{2} + 2 l \\cos{\\left(\\operatorname{q_{3}}{\\left(t \\right)} \\right)} \\frac{d}{d t} \\operatorname{q_{1}}{\\left(t \\right)} \\frac{d}{d t} \\operatorname{q_{3}}{\\left(t \\right)} + \\left(\\frac{d}{d t} \\operatorname{q_{1}}{\\left(t \\right)}\\right)^{2}} \\sqrt{\\left(\\operatorname{q_{1}}{\\left(t \\right)} - \\operatorname{q_{2}}{\\left(t \\right)}\\right)^{2}} + \\left(\\operatorname{q_{1}}{\\left(t \\right)} - \\operatorname{q_{2}}{\\left(t \\right)}\\right) \\left(M \\frac{d^{2}}{d t^{2}} \\operatorname{q_{1}}{\\left(t \\right)} + 2 \\rho \\frac{d}{d t} \\operatorname{q_{1}}{\\left(t \\right)} + m \\left(- l \\sin{\\left(\\operatorname{q_{3}}{\\left(t \\right)} \\right)} \\left(\\frac{d}{d t} \\operatorname{q_{3}}{\\left(t \\right)}\\right)^{2} + l \\cos{\\left(\\operatorname{q_{3}}{\\left(t \\right)} \\right)} \\frac{d^{2}}{d t^{2}} \\operatorname{q_{3}}{\\left(t \\right)} + \\frac{d^{2}}{d t^{2}} \\operatorname{q_{1}}{\\left(t \\right)}\\right)\\right) \\sqrt{l^{2} \\left(\\frac{d}{d t} \\operatorname{q_{3}}{\\left(t \\right)}\\right)^{2} + 2 l \\cos{\\left(\\operatorname{q_{3}}{\\left(t \\right)} \\right)} \\frac{d}{d t} \\operatorname{q_{1}}{\\left(t \\right)} \\frac{d}{d t} \\operatorname{q_{3}}{\\left(t \\right)} + \\left(\\frac{d}{d t} \\operatorname{q_{1}}{\\left(t \\right)}\\right)^{2}}}{\\left(\\operatorname{q_{1}}{\\left(t \\right)} - \\operatorname{q_{2}}{\\left(t \\right)}\\right) \\sqrt{l^{2} \\left(\\frac{d}{d t} \\operatorname{q_{3}}{\\left(t \\right)}\\right)^{2} + 2 l \\cos{\\left(\\operatorname{q_{3}}{\\left(t \\right)} \\right)} \\frac{d}{d t} \\operatorname{q_{1}}{\\left(t \\right)} \\frac{d}{d t} \\operatorname{q_{3}}{\\left(t \\right)} + \\left(\\frac{d}{d t} \\operatorname{q_{1}}{\\left(t \\right)}\\right)^{2}}} & \\text{for}\\: \\theta_{ref} > \\left|{\\operatorname{q_{3}}{\\left(t \\right)}}\\right| \\\\\\frac{- 2 \\lambda \\left(l \\cos{\\left(\\operatorname{q_{3}}{\\left(t \\right)} \\right)} \\frac{d}{d t} \\operatorname{q_{3}}{\\left(t \\right)} + \\frac{d}{d t} \\operatorname{q_{1}}{\\left(t \\right)}\\right) \\left(\\operatorname{q_{1}}{\\left(t \\right)} - \\operatorname{q_{2}}{\\left(t \\right)}\\right) - k \\left(l_{0} - \\sqrt{\\left(\\operatorname{q_{1}}{\\left(t \\right)} - \\operatorname{q_{2}}{\\left(t \\right)}\\right)^{2}}\\right) \\sqrt{l^{2} \\left(\\frac{d}{d t} \\operatorname{q_{3}}{\\left(t \\right)}\\right)^{2} + 2 l \\cos{\\left(\\operatorname{q_{3}}{\\left(t \\right)} \\right)} \\frac{d}{d t} \\operatorname{q_{1}}{\\left(t \\right)} \\frac{d}{d t} \\operatorname{q_{3}}{\\left(t \\right)} + \\left(\\frac{d}{d t} \\operatorname{q_{1}}{\\left(t \\right)}\\right)^{2}} \\sqrt{\\left(\\operatorname{q_{1}}{\\left(t \\right)} - \\operatorname{q_{2}}{\\left(t \\right)}\\right)^{2}} + \\left(\\operatorname{q_{1}}{\\left(t \\right)} - \\operatorname{q_{2}}{\\left(t \\right)}\\right) \\left(M \\frac{d^{2}}{d t^{2}} \\operatorname{q_{1}}{\\left(t \\right)} + 2 \\rho \\frac{d}{d t} \\operatorname{q_{1}}{\\left(t \\right)} + m \\left(- l \\sin{\\left(\\operatorname{q_{3}}{\\left(t \\right)} \\right)} \\left(\\frac{d}{d t} \\operatorname{q_{3}}{\\left(t \\right)}\\right)^{2} + l \\cos{\\left(\\operatorname{q_{3}}{\\left(t \\right)} \\right)} \\frac{d^{2}}{d t^{2}} \\operatorname{q_{3}}{\\left(t \\right)} + \\frac{d^{2}}{d t^{2}} \\operatorname{q_{1}}{\\left(t \\right)}\\right)\\right) \\sqrt{l^{2} \\left(\\frac{d}{d t} \\operatorname{q_{3}}{\\left(t \\right)}\\right)^{2} + 2 l \\cos{\\left(\\operatorname{q_{3}}{\\left(t \\right)} \\right)} \\frac{d}{d t} \\operatorname{q_{1}}{\\left(t \\right)} \\frac{d}{d t} \\operatorname{q_{3}}{\\left(t \\right)} + \\left(\\frac{d}{d t} \\operatorname{q_{1}}{\\left(t \\right)}\\right)^{2}}}{\\left(\\operatorname{q_{1}}{\\left(t \\right)} - \\operatorname{q_{2}}{\\left(t \\right)}\\right) \\sqrt{l^{2} \\left(\\frac{d}{d t} \\operatorname{q_{3}}{\\left(t \\right)}\\right)^{2} + 2 l \\cos{\\left(\\operatorname{q_{3}}{\\left(t \\right)} \\right)} \\frac{d}{d t} \\operatorname{q_{1}}{\\left(t \\right)} \\frac{d}{d t} \\operatorname{q_{3}}{\\left(t \\right)} + \\left(\\frac{d}{d t} \\operatorname{q_{1}}{\\left(t \\right)}\\right)^{2}}} & \\text{otherwise} \\end{cases}\\\\\\begin{cases} \\frac{2 \\lambda \\left(l \\cos{\\left(\\operatorname{q_{4}}{\\left(t \\right)} \\right)} \\frac{d}{d t} \\operatorname{q_{4}}{\\left(t \\right)} + \\frac{d}{d t} \\operatorname{q_{2}}{\\left(t \\right)}\\right) \\left(\\operatorname{q_{1}}{\\left(t \\right)} - \\operatorname{q_{2}}{\\left(t \\right)}\\right) + k \\left(l_{0} - \\sqrt{\\left(\\operatorname{q_{1}}{\\left(t \\right)} - \\operatorname{q_{2}}{\\left(t \\right)}\\right)^{2}}\\right) \\sqrt{l^{2} \\left(\\frac{d}{d t} \\operatorname{q_{4}}{\\left(t \\right)}\\right)^{2} + 2 l \\cos{\\left(\\operatorname{q_{4}}{\\left(t \\right)} \\right)} \\frac{d}{d t} \\operatorname{q_{2}}{\\left(t \\right)} \\frac{d}{d t} \\operatorname{q_{4}}{\\left(t \\right)} + \\left(\\frac{d}{d t} \\operatorname{q_{2}}{\\left(t \\right)}\\right)^{2}} \\sqrt{\\left(\\operatorname{q_{1}}{\\left(t \\right)} - \\operatorname{q_{2}}{\\left(t \\right)}\\right)^{2}} + \\left(\\operatorname{q_{1}}{\\left(t \\right)} - \\operatorname{q_{2}}{\\left(t \\right)}\\right) \\left(M \\frac{d^{2}}{d t^{2}} \\operatorname{q_{2}}{\\left(t \\right)} + 2 \\rho \\frac{d}{d t} \\operatorname{q_{2}}{\\left(t \\right)} + m \\left(- l \\sin{\\left(\\operatorname{q_{4}}{\\left(t \\right)} \\right)} \\left(\\frac{d}{d t} \\operatorname{q_{4}}{\\left(t \\right)}\\right)^{2} + l \\cos{\\left(\\operatorname{q_{4}}{\\left(t \\right)} \\right)} \\frac{d^{2}}{d t^{2}} \\operatorname{q_{4}}{\\left(t \\right)} + \\frac{d^{2}}{d t^{2}} \\operatorname{q_{2}}{\\left(t \\right)}\\right)\\right) \\sqrt{l^{2} \\left(\\frac{d}{d t} \\operatorname{q_{4}}{\\left(t \\right)}\\right)^{2} + 2 l \\cos{\\left(\\operatorname{q_{4}}{\\left(t \\right)} \\right)} \\frac{d}{d t} \\operatorname{q_{2}}{\\left(t \\right)} \\frac{d}{d t} \\operatorname{q_{4}}{\\left(t \\right)} + \\left(\\frac{d}{d t} \\operatorname{q_{2}}{\\left(t \\right)}\\right)^{2}}}{\\left(\\operatorname{q_{1}}{\\left(t \\right)} - \\operatorname{q_{2}}{\\left(t \\right)}\\right) \\sqrt{l^{2} \\left(\\frac{d}{d t} \\operatorname{q_{4}}{\\left(t \\right)}\\right)^{2} + 2 l \\cos{\\left(\\operatorname{q_{4}}{\\left(t \\right)} \\right)} \\frac{d}{d t} \\operatorname{q_{2}}{\\left(t \\right)} \\frac{d}{d t} \\operatorname{q_{4}}{\\left(t \\right)} + \\left(\\frac{d}{d t} \\operatorname{q_{2}}{\\left(t \\right)}\\right)^{2}}} & \\text{for}\\: \\theta_{ref} > \\left|{\\operatorname{q_{4}}{\\left(t \\right)}}\\right| \\\\\\frac{- 2 \\lambda \\left(l \\cos{\\left(\\operatorname{q_{4}}{\\left(t \\right)} \\right)} \\frac{d}{d t} \\operatorname{q_{4}}{\\left(t \\right)} + \\frac{d}{d t} \\operatorname{q_{2}}{\\left(t \\right)}\\right) \\left(\\operatorname{q_{1}}{\\left(t \\right)} - \\operatorname{q_{2}}{\\left(t \\right)}\\right) + k \\left(l_{0} - \\sqrt{\\left(\\operatorname{q_{1}}{\\left(t \\right)} - \\operatorname{q_{2}}{\\left(t \\right)}\\right)^{2}}\\right) \\sqrt{l^{2} \\left(\\frac{d}{d t} \\operatorname{q_{4}}{\\left(t \\right)}\\right)^{2} + 2 l \\cos{\\left(\\operatorname{q_{4}}{\\left(t \\right)} \\right)} \\frac{d}{d t} \\operatorname{q_{2}}{\\left(t \\right)} \\frac{d}{d t} \\operatorname{q_{4}}{\\left(t \\right)} + \\left(\\frac{d}{d t} \\operatorname{q_{2}}{\\left(t \\right)}\\right)^{2}} \\sqrt{\\left(\\operatorname{q_{1}}{\\left(t \\right)} - \\operatorname{q_{2}}{\\left(t \\right)}\\right)^{2}} + \\left(\\operatorname{q_{1}}{\\left(t \\right)} - \\operatorname{q_{2}}{\\left(t \\right)}\\right) \\left(M \\frac{d^{2}}{d t^{2}} \\operatorname{q_{2}}{\\left(t \\right)} + 2 \\rho \\frac{d}{d t} \\operatorname{q_{2}}{\\left(t \\right)} + m \\left(- l \\sin{\\left(\\operatorname{q_{4}}{\\left(t \\right)} \\right)} \\left(\\frac{d}{d t} \\operatorname{q_{4}}{\\left(t \\right)}\\right)^{2} + l \\cos{\\left(\\operatorname{q_{4}}{\\left(t \\right)} \\right)} \\frac{d^{2}}{d t^{2}} \\operatorname{q_{4}}{\\left(t \\right)} + \\frac{d^{2}}{d t^{2}} \\operatorname{q_{2}}{\\left(t \\right)}\\right)\\right) \\sqrt{l^{2} \\left(\\frac{d}{d t} \\operatorname{q_{4}}{\\left(t \\right)}\\right)^{2} + 2 l \\cos{\\left(\\operatorname{q_{4}}{\\left(t \\right)} \\right)} \\frac{d}{d t} \\operatorname{q_{2}}{\\left(t \\right)} \\frac{d}{d t} \\operatorname{q_{4}}{\\left(t \\right)} + \\left(\\frac{d}{d t} \\operatorname{q_{2}}{\\left(t \\right)}\\right)^{2}}}{\\left(\\operatorname{q_{1}}{\\left(t \\right)} - \\operatorname{q_{2}}{\\left(t \\right)}\\right) \\sqrt{l^{2} \\left(\\frac{d}{d t} \\operatorname{q_{4}}{\\left(t \\right)}\\right)^{2} + 2 l \\cos{\\left(\\operatorname{q_{4}}{\\left(t \\right)} \\right)} \\frac{d}{d t} \\operatorname{q_{2}}{\\left(t \\right)} \\frac{d}{d t} \\operatorname{q_{4}}{\\left(t \\right)} + \\left(\\frac{d}{d t} \\operatorname{q_{2}}{\\left(t \\right)}\\right)^{2}}} & \\text{otherwise} \\end{cases}\\\\\\begin{cases} \\frac{2 \\lambda l^{2} \\frac{d}{d t} \\operatorname{q_{3}}{\\left(t \\right)}}{\\sqrt{l^{2} \\left(\\frac{d}{d t} \\operatorname{q_{3}}{\\left(t \\right)}\\right)^{2} + 2 l \\cos{\\left(\\operatorname{q_{3}}{\\left(t \\right)} \\right)} \\frac{d}{d t} \\operatorname{q_{1}}{\\left(t \\right)} \\frac{d}{d t} \\operatorname{q_{3}}{\\left(t \\right)} + \\left(\\frac{d}{d t} \\operatorname{q_{1}}{\\left(t \\right)}\\right)^{2}}} + \\frac{2 \\lambda l \\cos{\\left(\\operatorname{q_{3}}{\\left(t \\right)} \\right)} \\frac{d}{d t} \\operatorname{q_{1}}{\\left(t \\right)}}{\\sqrt{l^{2} \\left(\\frac{d}{d t} \\operatorname{q_{3}}{\\left(t \\right)}\\right)^{2} + 2 l \\cos{\\left(\\operatorname{q_{3}}{\\left(t \\right)} \\right)} \\frac{d}{d t} \\operatorname{q_{1}}{\\left(t \\right)} \\frac{d}{d t} \\operatorname{q_{3}}{\\left(t \\right)} + \\left(\\frac{d}{d t} \\operatorname{q_{1}}{\\left(t \\right)}\\right)^{2}}} + g m + l^{2} m \\frac{d^{2}}{d t^{2}} \\operatorname{q_{3}}{\\left(t \\right)} + l m \\cos{\\left(\\operatorname{q_{3}}{\\left(t \\right)} \\right)} \\frac{d^{2}}{d t^{2}} \\operatorname{q_{1}}{\\left(t \\right)} & \\text{for}\\: \\theta_{ref} > \\left|{\\operatorname{q_{3}}{\\left(t \\right)}}\\right| \\\\- \\frac{2 \\lambda l^{2} \\frac{d}{d t} \\operatorname{q_{3}}{\\left(t \\right)}}{\\sqrt{l^{2} \\left(\\frac{d}{d t} \\operatorname{q_{3}}{\\left(t \\right)}\\right)^{2} + 2 l \\cos{\\left(\\operatorname{q_{3}}{\\left(t \\right)} \\right)} \\frac{d}{d t} \\operatorname{q_{1}}{\\left(t \\right)} \\frac{d}{d t} \\operatorname{q_{3}}{\\left(t \\right)} + \\left(\\frac{d}{d t} \\operatorname{q_{1}}{\\left(t \\right)}\\right)^{2}}} - \\frac{2 \\lambda l \\cos{\\left(\\operatorname{q_{3}}{\\left(t \\right)} \\right)} \\frac{d}{d t} \\operatorname{q_{1}}{\\left(t \\right)}}{\\sqrt{l^{2} \\left(\\frac{d}{d t} \\operatorname{q_{3}}{\\left(t \\right)}\\right)^{2} + 2 l \\cos{\\left(\\operatorname{q_{3}}{\\left(t \\right)} \\right)} \\frac{d}{d t} \\operatorname{q_{1}}{\\left(t \\right)} \\frac{d}{d t} \\operatorname{q_{3}}{\\left(t \\right)} + \\left(\\frac{d}{d t} \\operatorname{q_{1}}{\\left(t \\right)}\\right)^{2}}} + g m + l^{2} m \\frac{d^{2}}{d t^{2}} \\operatorname{q_{3}}{\\left(t \\right)} + l m \\cos{\\left(\\operatorname{q_{3}}{\\left(t \\right)} \\right)} \\frac{d^{2}}{d t^{2}} \\operatorname{q_{1}}{\\left(t \\right)} & \\text{otherwise} \\end{cases}\\\\\\begin{cases} \\frac{2 \\lambda l^{2} \\frac{d}{d t} \\operatorname{q_{4}}{\\left(t \\right)}}{\\sqrt{l^{2} \\left(\\frac{d}{d t} \\operatorname{q_{4}}{\\left(t \\right)}\\right)^{2} + 2 l \\cos{\\left(\\operatorname{q_{4}}{\\left(t \\right)} \\right)} \\frac{d}{d t} \\operatorname{q_{2}}{\\left(t \\right)} \\frac{d}{d t} \\operatorname{q_{4}}{\\left(t \\right)} + \\left(\\frac{d}{d t} \\operatorname{q_{2}}{\\left(t \\right)}\\right)^{2}}} + \\frac{2 \\lambda l \\cos{\\left(\\operatorname{q_{4}}{\\left(t \\right)} \\right)} \\frac{d}{d t} \\operatorname{q_{2}}{\\left(t \\right)}}{\\sqrt{l^{2} \\left(\\frac{d}{d t} \\operatorname{q_{4}}{\\left(t \\right)}\\right)^{2} + 2 l \\cos{\\left(\\operatorname{q_{4}}{\\left(t \\right)} \\right)} \\frac{d}{d t} \\operatorname{q_{2}}{\\left(t \\right)} \\frac{d}{d t} \\operatorname{q_{4}}{\\left(t \\right)} + \\left(\\frac{d}{d t} \\operatorname{q_{2}}{\\left(t \\right)}\\right)^{2}}} + g m + l^{2} m \\frac{d^{2}}{d t^{2}} \\operatorname{q_{4}}{\\left(t \\right)} + l m \\cos{\\left(\\operatorname{q_{4}}{\\left(t \\right)} \\right)} \\frac{d^{2}}{d t^{2}} \\operatorname{q_{2}}{\\left(t \\right)} & \\text{for}\\: \\theta_{ref} > \\left|{\\operatorname{q_{4}}{\\left(t \\right)}}\\right| \\\\- \\frac{2 \\lambda l^{2} \\frac{d}{d t} \\operatorname{q_{4}}{\\left(t \\right)}}{\\sqrt{l^{2} \\left(\\frac{d}{d t} \\operatorname{q_{4}}{\\left(t \\right)}\\right)^{2} + 2 l \\cos{\\left(\\operatorname{q_{4}}{\\left(t \\right)} \\right)} \\frac{d}{d t} \\operatorname{q_{2}}{\\left(t \\right)} \\frac{d}{d t} \\operatorname{q_{4}}{\\left(t \\right)} + \\left(\\frac{d}{d t} \\operatorname{q_{2}}{\\left(t \\right)}\\right)^{2}}} - \\frac{2 \\lambda l \\cos{\\left(\\operatorname{q_{4}}{\\left(t \\right)} \\right)} \\frac{d}{d t} \\operatorname{q_{2}}{\\left(t \\right)}}{\\sqrt{l^{2} \\left(\\frac{d}{d t} \\operatorname{q_{4}}{\\left(t \\right)}\\right)^{2} + 2 l \\cos{\\left(\\operatorname{q_{4}}{\\left(t \\right)} \\right)} \\frac{d}{d t} \\operatorname{q_{2}}{\\left(t \\right)} \\frac{d}{d t} \\operatorname{q_{4}}{\\left(t \\right)} + \\left(\\frac{d}{d t} \\operatorname{q_{2}}{\\left(t \\right)}\\right)^{2}}} + g m + l^{2} m \\frac{d^{2}}{d t^{2}} \\operatorname{q_{4}}{\\left(t \\right)} + l m \\cos{\\left(\\operatorname{q_{4}}{\\left(t \\right)} \\right)} \\frac{d^{2}}{d t^{2}} \\operatorname{q_{2}}{\\left(t \\right)} & \\text{otherwise} \\end{cases}\\end{matrix}\\right]$"
      ],
      "text/plain": [
       "Matrix([\n",
       "[Piecewise(((2*\\lambda*(l*cos(q3(t))*Derivative(q3(t), t) + Derivative(q1(t), t))*(q1(t) - q2(t)) - k*(l0 - sqrt((q1(t) - q2(t))**2))*sqrt(l**2*Derivative(q3(t), t)**2 + 2*l*cos(q3(t))*Derivative(q1(t), t)*Derivative(q3(t), t) + Derivative(q1(t), t)**2)*sqrt((q1(t) - q2(t))**2) + (q1(t) - q2(t))*(M*Derivative(q1(t), (t, 2)) + 2*\\rho*Derivative(q1(t), t) + m*(-l*sin(q3(t))*Derivative(q3(t), t)**2 + l*cos(q3(t))*Derivative(q3(t), (t, 2)) + Derivative(q1(t), (t, 2))))*sqrt(l**2*Derivative(q3(t), t)**2 + 2*l*cos(q3(t))*Derivative(q1(t), t)*Derivative(q3(t), t) + Derivative(q1(t), t)**2))/((q1(t) - q2(t))*sqrt(l**2*Derivative(q3(t), t)**2 + 2*l*cos(q3(t))*Derivative(q1(t), t)*Derivative(q3(t), t) + Derivative(q1(t), t)**2)), \\theta_{ref} > Abs(q3(t))), ((-2*\\lambda*(l*cos(q3(t))*Derivative(q3(t), t) + Derivative(q1(t), t))*(q1(t) - q2(t)) - k*(l0 - sqrt((q1(t) - q2(t))**2))*sqrt(l**2*Derivative(q3(t), t)**2 + 2*l*cos(q3(t))*Derivative(q1(t), t)*Derivative(q3(t), t) + Derivative(q1(t), t)**2)*sqrt((q1(t) - q2(t))**2) + (q1(t) - q2(t))*(M*Derivative(q1(t), (t, 2)) + 2*\\rho*Derivative(q1(t), t) + m*(-l*sin(q3(t))*Derivative(q3(t), t)**2 + l*cos(q3(t))*Derivative(q3(t), (t, 2)) + Derivative(q1(t), (t, 2))))*sqrt(l**2*Derivative(q3(t), t)**2 + 2*l*cos(q3(t))*Derivative(q1(t), t)*Derivative(q3(t), t) + Derivative(q1(t), t)**2))/((q1(t) - q2(t))*sqrt(l**2*Derivative(q3(t), t)**2 + 2*l*cos(q3(t))*Derivative(q1(t), t)*Derivative(q3(t), t) + Derivative(q1(t), t)**2)), True))],\n",
       "[Piecewise(((2*\\lambda*(l*cos(q4(t))*Derivative(q4(t), t) + Derivative(q2(t), t))*(q1(t) - q2(t)) + k*(l0 - sqrt((q1(t) - q2(t))**2))*sqrt(l**2*Derivative(q4(t), t)**2 + 2*l*cos(q4(t))*Derivative(q2(t), t)*Derivative(q4(t), t) + Derivative(q2(t), t)**2)*sqrt((q1(t) - q2(t))**2) + (q1(t) - q2(t))*(M*Derivative(q2(t), (t, 2)) + 2*\\rho*Derivative(q2(t), t) + m*(-l*sin(q4(t))*Derivative(q4(t), t)**2 + l*cos(q4(t))*Derivative(q4(t), (t, 2)) + Derivative(q2(t), (t, 2))))*sqrt(l**2*Derivative(q4(t), t)**2 + 2*l*cos(q4(t))*Derivative(q2(t), t)*Derivative(q4(t), t) + Derivative(q2(t), t)**2))/((q1(t) - q2(t))*sqrt(l**2*Derivative(q4(t), t)**2 + 2*l*cos(q4(t))*Derivative(q2(t), t)*Derivative(q4(t), t) + Derivative(q2(t), t)**2)), \\theta_{ref} > Abs(q4(t))), ((-2*\\lambda*(l*cos(q4(t))*Derivative(q4(t), t) + Derivative(q2(t), t))*(q1(t) - q2(t)) + k*(l0 - sqrt((q1(t) - q2(t))**2))*sqrt(l**2*Derivative(q4(t), t)**2 + 2*l*cos(q4(t))*Derivative(q2(t), t)*Derivative(q4(t), t) + Derivative(q2(t), t)**2)*sqrt((q1(t) - q2(t))**2) + (q1(t) - q2(t))*(M*Derivative(q2(t), (t, 2)) + 2*\\rho*Derivative(q2(t), t) + m*(-l*sin(q4(t))*Derivative(q4(t), t)**2 + l*cos(q4(t))*Derivative(q4(t), (t, 2)) + Derivative(q2(t), (t, 2))))*sqrt(l**2*Derivative(q4(t), t)**2 + 2*l*cos(q4(t))*Derivative(q2(t), t)*Derivative(q4(t), t) + Derivative(q2(t), t)**2))/((q1(t) - q2(t))*sqrt(l**2*Derivative(q4(t), t)**2 + 2*l*cos(q4(t))*Derivative(q2(t), t)*Derivative(q4(t), t) + Derivative(q2(t), t)**2)), True))],\n",
       "[                                                                                                                                                                                                                                                                                                                                                                                                                                                                                                                                                                                                                                              Piecewise((2*\\lambda*l**2*Derivative(q3(t), t)/sqrt(l**2*Derivative(q3(t), t)**2 + 2*l*cos(q3(t))*Derivative(q1(t), t)*Derivative(q3(t), t) + Derivative(q1(t), t)**2) + 2*\\lambda*l*cos(q3(t))*Derivative(q1(t), t)/sqrt(l**2*Derivative(q3(t), t)**2 + 2*l*cos(q3(t))*Derivative(q1(t), t)*Derivative(q3(t), t) + Derivative(q1(t), t)**2) + g*m + l**2*m*Derivative(q3(t), (t, 2)) + l*m*cos(q3(t))*Derivative(q1(t), (t, 2)), \\theta_{ref} > Abs(q3(t))), (-2*\\lambda*l**2*Derivative(q3(t), t)/sqrt(l**2*Derivative(q3(t), t)**2 + 2*l*cos(q3(t))*Derivative(q1(t), t)*Derivative(q3(t), t) + Derivative(q1(t), t)**2) - 2*\\lambda*l*cos(q3(t))*Derivative(q1(t), t)/sqrt(l**2*Derivative(q3(t), t)**2 + 2*l*cos(q3(t))*Derivative(q1(t), t)*Derivative(q3(t), t) + Derivative(q1(t), t)**2) + g*m + l**2*m*Derivative(q3(t), (t, 2)) + l*m*cos(q3(t))*Derivative(q1(t), (t, 2)), True))],\n",
       "[                                                                                                                                                                                                                                                                                                                                                                                                                                                                                                                                                                                                                                              Piecewise((2*\\lambda*l**2*Derivative(q4(t), t)/sqrt(l**2*Derivative(q4(t), t)**2 + 2*l*cos(q4(t))*Derivative(q2(t), t)*Derivative(q4(t), t) + Derivative(q2(t), t)**2) + 2*\\lambda*l*cos(q4(t))*Derivative(q2(t), t)/sqrt(l**2*Derivative(q4(t), t)**2 + 2*l*cos(q4(t))*Derivative(q2(t), t)*Derivative(q4(t), t) + Derivative(q2(t), t)**2) + g*m + l**2*m*Derivative(q4(t), (t, 2)) + l*m*cos(q4(t))*Derivative(q2(t), (t, 2)), \\theta_{ref} > Abs(q4(t))), (-2*\\lambda*l**2*Derivative(q4(t), t)/sqrt(l**2*Derivative(q4(t), t)**2 + 2*l*cos(q4(t))*Derivative(q2(t), t)*Derivative(q4(t), t) + Derivative(q2(t), t)**2) - 2*\\lambda*l*cos(q4(t))*Derivative(q2(t), t)/sqrt(l**2*Derivative(q4(t), t)**2 + 2*l*cos(q4(t))*Derivative(q2(t), t)*Derivative(q4(t), t) + Derivative(q2(t), t)**2) + g*m + l**2*m*Derivative(q4(t), (t, 2)) + l*m*cos(q4(t))*Derivative(q2(t), (t, 2)), True))]])"
      ]
     },
     "execution_count": 14,
     "metadata": {},
     "output_type": "execute_result"
    }
   ],
   "source": [
    "l,t,m,M,g,k,l0,w,r,lam, qref = sp.symbols(r'l t m M g k l0 w \\rho \\lambda \\theta_{ref}')\n",
    "q1, q2,q3,q4 = mech.dynamicsymbols('q1:5')\n",
    "q1d, q2d, q3d, q4d = mech.dynamicsymbols('q1:5', 1)\n",
    "\n",
    "# Create and initialize the reference frame\n",
    "N = mech.ReferenceFrame('N')\n",
    "pointN = mech.Point('N*')\n",
    "pointN.set_vel(N, 0)\n",
    "\n",
    "# Create the points\n",
    "point1 = pointN.locatenew('p_1',q1*N.x)\n",
    "point2 = pointN.locatenew('p_2',q2*N.x)\n",
    "point3 = point1.locatenew('p_3', l*(sp.sin(q3)*N.x-sp.cos(q3)*N.y))\n",
    "point4 = point2.locatenew('p_4', l*(sp.sin(q4)*N.x-sp.cos(q4)*N.y))\n",
    "\n",
    "# Set the points' velocities\n",
    "point1.set_vel(N, point1.pos_from(pointN).dt(N))\n",
    "point2.set_vel(N, point2.pos_from(pointN).dt(N))\n",
    "point3.set_vel(N, point3.pos_from(pointN).dt(N))\n",
    "point4.set_vel(N, point4.pos_from(pointN).dt(N))\n",
    "\n",
    "# Create the particles\n",
    "particle1 = mech.Particle('P_1',point1,M)\n",
    "particle2 = mech.Particle('P_2',point2,M)\n",
    "particle3 = mech.Particle('P_3',point3,m)\n",
    "particle4 = mech.Particle('P_4',point4,m)\n",
    "\n",
    "# Set the particles' potential energy\n",
    "particle1.potential_energy = 0\n",
    "particle2.potential_energy = S.Half*k*((point2.pos_from(pointN)-point1.pos_from(pointN)).magnitude()-l0)**2\n",
    "particle3.potential_energy = particle3.mass*g*q3\n",
    "particle4.potential_energy = particle4.mass*g*q4\n",
    "\n",
    "# Define forces not coming from a potential function\n",
    "escapement3 = 2*lam*sp.Piecewise((-1, sp.Abs(q3) < qref), (1, sp.Abs(q3) >= qref))\n",
    "escapement4 = 2*lam*sp.Piecewise((-1, sp.Abs(q4) < qref), (1, sp.Abs(q4) >= qref))\n",
    "\n",
    "\n",
    "forces=[(point1, -2*r*point1.vel(N)),(point2, -2*r*point2.vel(N)),\n",
    "        (point3,escapement3*point3.vel(N).normalize()),\n",
    "        (point4,escapement4*point4.vel(N).normalize())]\n",
    "\n",
    "# Construct the Lagrangian\n",
    "L = mech.Lagrangian(N, particle1,particle2,particle3,particle4)\n",
    "\n",
    "# Create the LagrangesMethod object\n",
    "LM = mech.LagrangesMethod(L, [q1, q2,q3,q4], hol_coneqs=None, forcelist=forces, frame=N)\n",
    "\n",
    "# Form Lagranges Equations\n",
    "ELeqns = LM.form_lagranges_equations()\n",
    "sp.simplify(ELeqns)\n",
    "\n",
    "# # Holonomic Constraint Equations\n",
    "# f_c = Matrix([q1**2 + q2**2 - L**2])"
   ]
  },
  {
   "cell_type": "code",
   "execution_count": 18,
   "metadata": {},
   "outputs": [
    {
     "ename": "AttributeError",
     "evalue": "'LagrangesMethod' object has no attribute '_uaux'",
     "output_type": "error",
     "traceback": [
      "\u001b[1;31m---------------------------------------------------------------------------\u001b[0m",
      "\u001b[1;31mAttributeError\u001b[0m                            Traceback (most recent call last)",
      "\u001b[1;32m<ipython-input-18-4101f097ecb7>\u001b[0m in \u001b[0;36m<module>\u001b[1;34m\u001b[0m\n\u001b[0;32m     12\u001b[0m                  \u001b[0mq4\u001b[0m\u001b[1;33m:\u001b[0m\u001b[0mnp\u001b[0m\u001b[1;33m.\u001b[0m\u001b[0mpi\u001b[0m\u001b[1;33m/\u001b[0m\u001b[1;36m5\u001b[0m\u001b[1;33m,\u001b[0m\u001b[0mq1d\u001b[0m\u001b[1;33m:\u001b[0m\u001b[1;36m0\u001b[0m\u001b[1;33m,\u001b[0m\u001b[0mq2d\u001b[0m\u001b[1;33m:\u001b[0m\u001b[1;36m0\u001b[0m\u001b[1;33m,\u001b[0m\u001b[1;33m\u001b[0m\u001b[1;33m\u001b[0m\u001b[0m\n\u001b[0;32m     13\u001b[0m                  q3d:0,q4d:0},\n\u001b[1;32m---> 14\u001b[1;33m              times=linspace(0.0, 10.0, 1000))\n\u001b[0m\u001b[0;32m     15\u001b[0m \u001b[0my\u001b[0m \u001b[1;33m=\u001b[0m \u001b[0msys\u001b[0m\u001b[1;33m.\u001b[0m\u001b[0mintegrate\u001b[0m\u001b[1;33m(\u001b[0m\u001b[1;33m)\u001b[0m\u001b[1;33m\u001b[0m\u001b[1;33m\u001b[0m\u001b[0m\n",
      "\u001b[1;32mC:\\ProgramData\\Anaconda3\\lib\\site-packages\\pydy\\system.py\u001b[0m in \u001b[0;36m__init__\u001b[1;34m(self, eom_method, constants, specifieds, ode_solver, initial_conditions, times)\u001b[0m\n\u001b[0;32m    103\u001b[0m \u001b[1;33m\u001b[0m\u001b[0m\n\u001b[0;32m    104\u001b[0m         \u001b[1;31m# TODO : What if user adds symbols after constructing a System?\u001b[0m\u001b[1;33m\u001b[0m\u001b[1;33m\u001b[0m\u001b[1;33m\u001b[0m\u001b[0m\n\u001b[1;32m--> 105\u001b[1;33m         \u001b[0mself\u001b[0m\u001b[1;33m.\u001b[0m\u001b[0m_constants_symbols\u001b[0m \u001b[1;33m=\u001b[0m \u001b[0mself\u001b[0m\u001b[1;33m.\u001b[0m\u001b[0m_Kane_constant_symbols\u001b[0m\u001b[1;33m(\u001b[0m\u001b[1;33m)\u001b[0m\u001b[1;33m\u001b[0m\u001b[1;33m\u001b[0m\u001b[0m\n\u001b[0m\u001b[0;32m    106\u001b[0m         \u001b[0mself\u001b[0m\u001b[1;33m.\u001b[0m\u001b[0m_specifieds_symbols\u001b[0m \u001b[1;33m=\u001b[0m \u001b[0mself\u001b[0m\u001b[1;33m.\u001b[0m\u001b[0m_Kane_undefined_dynamicsymbols\u001b[0m\u001b[1;33m(\u001b[0m\u001b[1;33m)\u001b[0m\u001b[1;33m\u001b[0m\u001b[1;33m\u001b[0m\u001b[0m\n\u001b[0;32m    107\u001b[0m \u001b[1;33m\u001b[0m\u001b[0m\n",
      "\u001b[1;32mC:\\ProgramData\\Anaconda3\\lib\\site-packages\\pydy\\system.py\u001b[0m in \u001b[0;36m_Kane_constant_symbols\u001b[1;34m(self)\u001b[0m\n\u001b[0;32m    591\u001b[0m \u001b[1;33m\u001b[0m\u001b[0m\n\u001b[0;32m    592\u001b[0m         \"\"\"\n\u001b[1;32m--> 593\u001b[1;33m         \u001b[0mfrom_eoms\u001b[0m\u001b[1;33m,\u001b[0m \u001b[0mfrom_sym_lists\u001b[0m \u001b[1;33m=\u001b[0m \u001b[0mself\u001b[0m\u001b[1;33m.\u001b[0m\u001b[0m_Kane_inlist_insyms\u001b[0m\u001b[1;33m(\u001b[0m\u001b[1;33m)\u001b[0m\u001b[1;33m\u001b[0m\u001b[1;33m\u001b[0m\u001b[0m\n\u001b[0m\u001b[0;32m    594\u001b[0m         \u001b[0munique_symbols\u001b[0m \u001b[1;33m=\u001b[0m \u001b[0mset\u001b[0m\u001b[1;33m(\u001b[0m\u001b[1;33m)\u001b[0m\u001b[1;33m\u001b[0m\u001b[1;33m\u001b[0m\u001b[0m\n\u001b[0;32m    595\u001b[0m         \u001b[1;32mfor\u001b[0m \u001b[0mexpr\u001b[0m \u001b[1;32min\u001b[0m \u001b[0mfrom_eoms\u001b[0m\u001b[1;33m:\u001b[0m\u001b[1;33m\u001b[0m\u001b[1;33m\u001b[0m\u001b[0m\n",
      "\u001b[1;32mC:\\ProgramData\\Anaconda3\\lib\\site-packages\\pydy\\system.py\u001b[0m in \u001b[0;36m_Kane_inlist_insyms\u001b[1;34m(self)\u001b[0m\n\u001b[0;32m    545\u001b[0m         \u001b[1;34m\"\"\"TODO temporary.\"\"\"\u001b[0m\u001b[1;33m\u001b[0m\u001b[1;33m\u001b[0m\u001b[0m\n\u001b[0;32m    546\u001b[0m \u001b[1;33m\u001b[0m\u001b[0m\n\u001b[1;32m--> 547\u001b[1;33m         \u001b[0muaux\u001b[0m \u001b[1;33m=\u001b[0m \u001b[0mself\u001b[0m\u001b[1;33m.\u001b[0m\u001b[0meom_method\u001b[0m\u001b[1;33m.\u001b[0m\u001b[0m_uaux\u001b[0m\u001b[1;33m[\u001b[0m\u001b[1;33m:\u001b[0m\u001b[1;33m]\u001b[0m\u001b[1;33m\u001b[0m\u001b[1;33m\u001b[0m\u001b[0m\n\u001b[0m\u001b[0;32m    548\u001b[0m         \u001b[0muauxdot\u001b[0m \u001b[1;33m=\u001b[0m \u001b[1;33m[\u001b[0m\u001b[0msm\u001b[0m\u001b[1;33m.\u001b[0m\u001b[0mdiff\u001b[0m\u001b[1;33m(\u001b[0m\u001b[0mi\u001b[0m\u001b[1;33m,\u001b[0m \u001b[0mdynamicsymbols\u001b[0m\u001b[1;33m.\u001b[0m\u001b[0m_t\u001b[0m\u001b[1;33m)\u001b[0m \u001b[1;32mfor\u001b[0m \u001b[0mi\u001b[0m \u001b[1;32min\u001b[0m \u001b[0muaux\u001b[0m\u001b[1;33m]\u001b[0m\u001b[1;33m\u001b[0m\u001b[1;33m\u001b[0m\u001b[0m\n\u001b[0;32m    549\u001b[0m \u001b[1;33m\u001b[0m\u001b[0m\n",
      "\u001b[1;31mAttributeError\u001b[0m: 'LagrangesMethod' object has no attribute '_uaux'"
     ]
    }
   ],
   "source": [
    "from numpy import array, linspace, sin, cos\n",
    "from pydy.system import System\n",
    "import numpy as np\n",
    "\n",
    "sys = System(LM,constants={\n",
    "    m:1.0,M:10.0,l:1.0,\n",
    "    l0:1.0,k: 10.0,g:9.81,\n",
    "    w:1.0,r:0.2,lam:0.1,\n",
    "    qref:0.1},\n",
    "             initial_conditions={\n",
    "                 q1:0,q2:w,q3:np.pi/4,\n",
    "                 q4:np.pi/5,q1d:0,q2d:0,\n",
    "                 q3d:0,q4d:0},\n",
    "             times=linspace(0.0, 10.0, 1000))\n",
    "y = sys.integrate()"
   ]
  },
  {
   "cell_type": "code",
   "execution_count": null,
   "metadata": {},
   "outputs": [],
   "source": []
  }
 ],
 "metadata": {
  "kernelspec": {
   "display_name": "Python 3",
   "language": "python",
   "name": "python3"
  },
  "language_info": {
   "codemirror_mode": {
    "name": "ipython",
    "version": 3
   },
   "file_extension": ".py",
   "mimetype": "text/x-python",
   "name": "python",
   "nbconvert_exporter": "python",
   "pygments_lexer": "ipython3",
   "version": "3.7.7"
  }
 },
 "nbformat": 4,
 "nbformat_minor": 2
}
