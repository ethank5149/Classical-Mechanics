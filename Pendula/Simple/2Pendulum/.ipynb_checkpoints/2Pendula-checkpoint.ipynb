{
 "cells": [
  {
   "cell_type": "code",
   "execution_count": 8,
   "metadata": {},
   "outputs": [],
   "source": [
    "%matplotlib inline\n",
    "import sympy.physics.mechanics as mech\n",
    "from sympy import S,Rational,pi\n",
    "import sympy as sp"
   ]
  },
  {
   "cell_type": "code",
   "execution_count": 9,
   "metadata": {},
   "outputs": [
    {
     "data": {
      "text/latex": [
       "$\\displaystyle \\left[\\begin{matrix}l_{1} \\left(g m_{1} \\sin{\\left(\\theta_{1}{\\left(t \\right)} \\right)} + g m_{2} \\sin{\\left(\\theta_{1}{\\left(t \\right)} \\right)} + l_{1} m_{1} \\frac{d^{2}}{d t^{2}} \\theta_{1}{\\left(t \\right)} + l_{1} m_{2} \\frac{d^{2}}{d t^{2}} \\theta_{1}{\\left(t \\right)} + l_{2} m_{2} \\sin{\\left(\\theta_{1}{\\left(t \\right)} - \\theta_{2}{\\left(t \\right)} \\right)} \\left(\\frac{d}{d t} \\theta_{2}{\\left(t \\right)}\\right)^{2} + l_{2} m_{2} \\cos{\\left(\\theta_{1}{\\left(t \\right)} - \\theta_{2}{\\left(t \\right)} \\right)} \\frac{d^{2}}{d t^{2}} \\theta_{2}{\\left(t \\right)}\\right)\\\\l_{2} m_{2} \\left(g \\sin{\\left(\\theta_{2}{\\left(t \\right)} \\right)} - l_{1} \\sin{\\left(\\theta_{1}{\\left(t \\right)} - \\theta_{2}{\\left(t \\right)} \\right)} \\left(\\frac{d}{d t} \\theta_{1}{\\left(t \\right)}\\right)^{2} + l_{1} \\cos{\\left(\\theta_{1}{\\left(t \\right)} - \\theta_{2}{\\left(t \\right)} \\right)} \\frac{d^{2}}{d t^{2}} \\theta_{1}{\\left(t \\right)} + l_{2} \\frac{d^{2}}{d t^{2}} \\theta_{2}{\\left(t \\right)}\\right)\\end{matrix}\\right]$"
      ],
      "text/plain": [
       "Matrix([\n",
       "[l_1*(g*m_1*sin(\\theta_1(t)) + g*m_2*sin(\\theta_1(t)) + l_1*m_1*Derivative(\\theta_1(t), (t, 2)) + l_1*m_2*Derivative(\\theta_1(t), (t, 2)) + l_2*m_2*sin(\\theta_1(t) - \\theta_2(t))*Derivative(\\theta_2(t), t)**2 + l_2*m_2*cos(\\theta_1(t) - \\theta_2(t))*Derivative(\\theta_2(t), (t, 2)))],\n",
       "[                                                                               l_2*m_2*(g*sin(\\theta_2(t)) - l_1*sin(\\theta_1(t) - \\theta_2(t))*Derivative(\\theta_1(t), t)**2 + l_1*cos(\\theta_1(t) - \\theta_2(t))*Derivative(\\theta_1(t), (t, 2)) + l_2*Derivative(\\theta_2(t), (t, 2)))]])"
      ]
     },
     "execution_count": 9,
     "metadata": {},
     "output_type": "execute_result"
    }
   ],
   "source": [
    "l1,l2,l,t,m1,m2,m,g= sp.symbols(r'l_1 l_2 l t m_1 m_2 m g')\n",
    "q1,q2 = mech.dynamicsymbols(r'\\theta_1 \\theta_2')\n",
    "q1d,q2d = mech.dynamicsymbols(r'\\theta_1 \\theta_2', 1)\n",
    "\n",
    "# Create and initialize the reference frame\n",
    "N = mech.ReferenceFrame('N')\n",
    "pointN = mech.Point('N*')\n",
    "pointN.set_vel(N, 0)\n",
    "\n",
    "# Create the points\n",
    "point1 = pointN.locatenew('p_1', l1*(sp.sin(q1)*N.x-sp.cos(q1)*N.y))\n",
    "point2 = point1.locatenew('p_2', l2*(sp.sin(q2)*N.x-sp.cos(q2)*N.y))\n",
    "\n",
    "# Set the points' velocities\n",
    "point1.set_vel(N, point1.pos_from(pointN).dt(N))\n",
    "point2.set_vel(N, point2.pos_from(pointN).dt(N))\n",
    "\n",
    "# Create the particles\n",
    "particle1 = mech.Particle('P_1',point1,m1)\n",
    "particle2 = mech.Particle('P_2',point2,m2)\n",
    "\n",
    "# Set the particles' potential energy\n",
    "\n",
    "# Define forces\n",
    "forces=[(point1,-particle1.mass*g*N.y),(point2,-particle2.mass*g*N.y)]\n",
    "\n",
    "# Construct the Lagrangian\n",
    "L = mech.Lagrangian(N, particle1,particle2)\n",
    "\n",
    "# Create the LagrangesMethod object\n",
    "LM = mech.LagrangesMethod(L, [q1,q2], hol_coneqs=None, forcelist=forces, frame=N)\n",
    "\n",
    "# Form Lagranges Equations\n",
    "ELeqns = LM.form_lagranges_equations()\n",
    "sp.simplify(ELeqns)"
   ]
  },
  {
   "cell_type": "code",
   "execution_count": 10,
   "metadata": {},
   "outputs": [
    {
     "data": {
      "text/latex": [
       "$\\displaystyle \\left[\\begin{matrix}\\frac{d}{d t} \\theta_{1}{\\left(t \\right)}\\\\\\frac{d}{d t} \\theta_{2}{\\left(t \\right)}\\\\\\frac{g \\sin{\\left(\\theta_{1}{\\left(t \\right)} - 2 \\theta_{2}{\\left(t \\right)} \\right)} + 3 g \\sin{\\left(\\theta_{1}{\\left(t \\right)} \\right)} + 2 l \\sin{\\left(\\theta_{1}{\\left(t \\right)} - \\theta_{2}{\\left(t \\right)} \\right)} \\left(\\frac{d}{d t} \\theta_{2}{\\left(t \\right)}\\right)^{2} + l \\sin{\\left(2 \\theta_{1}{\\left(t \\right)} - 2 \\theta_{2}{\\left(t \\right)} \\right)} \\left(\\frac{d}{d t} \\theta_{1}{\\left(t \\right)}\\right)^{2}}{l \\left(\\cos{\\left(2 \\theta_{1}{\\left(t \\right)} - 2 \\theta_{2}{\\left(t \\right)} \\right)} - 3\\right)}\\\\\\frac{g \\sin{\\left(2 \\theta_{1}{\\left(t \\right)} - \\theta_{2}{\\left(t \\right)} \\right)} - g \\sin{\\left(\\theta_{2}{\\left(t \\right)} \\right)} + 2 l \\sin{\\left(\\theta_{1}{\\left(t \\right)} - \\theta_{2}{\\left(t \\right)} \\right)} \\left(\\frac{d}{d t} \\theta_{1}{\\left(t \\right)}\\right)^{2} + \\frac{l \\sin{\\left(2 \\theta_{1}{\\left(t \\right)} - 2 \\theta_{2}{\\left(t \\right)} \\right)} \\left(\\frac{d}{d t} \\theta_{2}{\\left(t \\right)}\\right)^{2}}{2}}{l \\left(2 - \\cos^{2}{\\left(\\theta_{1}{\\left(t \\right)} - \\theta_{2}{\\left(t \\right)} \\right)}\\right)}\\end{matrix}\\right]$"
      ],
      "text/plain": [
       "Matrix([\n",
       "[                                                                                                                                                                                                                      Derivative(\\theta_1(t), t)],\n",
       "[                                                                                                                                                                                                                      Derivative(\\theta_2(t), t)],\n",
       "[(g*sin(\\theta_1(t) - 2*\\theta_2(t)) + 3*g*sin(\\theta_1(t)) + 2*l*sin(\\theta_1(t) - \\theta_2(t))*Derivative(\\theta_2(t), t)**2 + l*sin(2*\\theta_1(t) - 2*\\theta_2(t))*Derivative(\\theta_1(t), t)**2)/(l*(cos(2*\\theta_1(t) - 2*\\theta_2(t)) - 3))],\n",
       "[ (g*sin(2*\\theta_1(t) - \\theta_2(t)) - g*sin(\\theta_2(t)) + 2*l*sin(\\theta_1(t) - \\theta_2(t))*Derivative(\\theta_1(t), t)**2 + l*sin(2*\\theta_1(t) - 2*\\theta_2(t))*Derivative(\\theta_2(t), t)**2/2)/(l*(2 - cos(\\theta_1(t) - \\theta_2(t))**2))]])"
      ]
     },
     "execution_count": 10,
     "metadata": {},
     "output_type": "execute_result"
    }
   ],
   "source": [
    "sp.simplify(LM.rhs())"
   ]
  },
  {
   "cell_type": "code",
   "execution_count": null,
   "metadata": {},
   "outputs": [],
   "source": []
  }
 ],
 "metadata": {
  "kernelspec": {
   "display_name": "Python 3",
   "language": "python",
   "name": "python3"
  },
  "language_info": {
   "codemirror_mode": {
    "name": "ipython",
    "version": 3
   },
   "file_extension": ".py",
   "mimetype": "text/x-python",
   "name": "python",
   "nbconvert_exporter": "python",
   "pygments_lexer": "ipython3",
   "version": "3.7.7"
  }
 },
 "nbformat": 4,
 "nbformat_minor": 2
}
