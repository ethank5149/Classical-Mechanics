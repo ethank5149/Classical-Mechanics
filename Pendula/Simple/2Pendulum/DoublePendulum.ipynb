{
 "cells": [
  {
   "cell_type": "code",
   "execution_count": 1,
   "metadata": {},
   "outputs": [],
   "source": [
    "from sympy.physics.mechanics import *\n",
    "import sympy as sp\n",
    "mechanics_printing(pretty_print=True)"
   ]
  },
  {
   "cell_type": "code",
   "execution_count": 2,
   "metadata": {},
   "outputs": [],
   "source": [
    "m1,m2,l1,l2 = sp.symbols(r'm_1,m_2,l_1,l_2')\n",
    "t,g,h = sp.symbols('t,g,h')\n",
    "v1, v2 = dynamicsymbols(r'\\theta_1 \\theta_2')\n",
    "dv1, dv2 = dynamicsymbols(r'\\theta_1 \\theta_2', 1)"
   ]
  },
  {
   "cell_type": "code",
   "execution_count": 3,
   "metadata": {},
   "outputs": [],
   "source": [
    "x1 = l1*sp.sin(v1)\n",
    "y1 = -l1*sp.cos(v1)\n",
    "x2 = x1 + l2*sp.sin(v2)\n",
    "y2 = y1 + -l2*sp.cos(v2)\n",
    "\n",
    "dx1 = x1.diff(t)\n",
    "dy1 = y1.diff(t)\n",
    "dx2 = x2.diff(t)\n",
    "dy2 = y2.diff(t)"
   ]
  },
  {
   "cell_type": "code",
   "execution_count": 4,
   "metadata": {},
   "outputs": [],
   "source": [
    "V = m1*g*y1 + m2*g*y2\n",
    "T = sp.Rational(1, 2)*m1*(dx1**2+dy1**2)+sp.Rational(1, 2)*m2*(dx2**2+dy2**2)\n",
    "L = T - V"
   ]
  },
  {
   "cell_type": "code",
   "execution_count": 5,
   "metadata": {},
   "outputs": [],
   "source": [
    "LM = LagrangesMethod(L, [v1, v2])"
   ]
  },
  {
   "cell_type": "code",
   "execution_count": 6,
   "metadata": {},
   "outputs": [],
   "source": [
    "soln = LM.form_lagranges_equations()"
   ]
  },
  {
   "cell_type": "code",
   "execution_count": 7,
   "metadata": {},
   "outputs": [],
   "source": [
    "solvedsoln = sp.solve((sp.Eq(soln[0]),sp.Eq(soln[1])),(v1.diff(t,t),v2.diff(t,t)))"
   ]
  },
  {
   "cell_type": "code",
   "execution_count": 8,
   "metadata": {},
   "outputs": [
    {
     "data": {
      "text/plain": "'\\\\left \\\\{ \\\\frac{d^{2}}{d t^{2}} \\\\theta_{1}{\\\\left (t \\\\right )} : - \\\\frac{g m_{1} \\\\sin{\\\\left (\\\\theta_{1}{\\\\left (t \\\\right )} \\\\right )} + \\\\frac{g m_{2} \\\\sin{\\\\left (\\\\theta_{1}{\\\\left (t \\\\right )} - 2 \\\\theta_{2}{\\\\left (t \\\\right )} \\\\right )}}{2} + \\\\frac{g m_{2} \\\\sin{\\\\left (\\\\theta_{1}{\\\\left (t \\\\right )} \\\\right )}}{2} + \\\\frac{l_{1} m_{2} \\\\sin{\\\\left (2 \\\\theta_{1}{\\\\left (t \\\\right )} - 2 \\\\theta_{2}{\\\\left (t \\\\right )} \\\\right )} \\\\left(\\\\frac{d}{d t} \\\\theta_{1}{\\\\left (t \\\\right )}\\\\right)^{2}}{2} + l_{2} m_{2} \\\\sin{\\\\left (\\\\theta_{1}{\\\\left (t \\\\right )} - \\\\theta_{2}{\\\\left (t \\\\right )} \\\\right )} \\\\left(\\\\frac{d}{d t} \\\\theta_{2}{\\\\left (t \\\\right )}\\\\right)^{2}}{l_{1} \\\\left(m_{1} - m_{2} \\\\cos^{2}{\\\\left (\\\\theta_{1}{\\\\left (t \\\\right )} - \\\\theta_{2}{\\\\left (t \\\\right )} \\\\right )} + m_{2}\\\\right)}, \\\\quad \\\\frac{d^{2}}{d t^{2}} \\\\theta_{2}{\\\\left (t \\\\right )} : \\\\frac{- \\\\left(m_{1} + m_{2}\\\\right) \\\\left(g \\\\sin{\\\\left (\\\\theta_{2}{\\\\left (t \\\\right )} \\\\right )} - l_{1} \\\\sin{\\\\left (\\\\theta_{1}{\\\\left (t \\\\right )} - \\\\theta_{2}{\\\\left (t \\\\right )} \\\\right )} \\\\left(\\\\frac{d}{d t} \\\\theta_{1}{\\\\left (t \\\\right )}\\\\right)^{2}\\\\right) + \\\\left(g m_{1} \\\\sin{\\\\left (\\\\theta_{1}{\\\\left (t \\\\right )} \\\\right )} + g m_{2} \\\\sin{\\\\left (\\\\theta_{1}{\\\\left (t \\\\right )} \\\\right )} + l_{2} m_{2} \\\\sin{\\\\left (\\\\theta_{1}{\\\\left (t \\\\right )} - \\\\theta_{2}{\\\\left (t \\\\right )} \\\\right )} \\\\left(\\\\frac{d}{d t} \\\\theta_{2}{\\\\left (t \\\\right )}\\\\right)^{2}\\\\right) \\\\cos{\\\\left (\\\\theta_{1}{\\\\left (t \\\\right )} - \\\\theta_{2}{\\\\left (t \\\\right )} \\\\right )}}{l_{2} \\\\left(m_{1} - m_{2} \\\\cos^{2}{\\\\left (\\\\theta_{1}{\\\\left (t \\\\right )} - \\\\theta_{2}{\\\\left (t \\\\right )} \\\\right )} + m_{2}\\\\right)}\\\\right \\\\}'"
     },
     "execution_count": 8,
     "metadata": {},
     "output_type": "execute_result"
    }
   ],
   "source": [
    "sp.latex(solvedsoln)"
   ]
  },
  {
   "cell_type": "code",
   "execution_count": null,
   "metadata": {},
   "outputs": [],
   "source": []
  }
 ],
 "metadata": {
  "kernelspec": {
   "display_name": "Python 3",
   "language": "python",
   "name": "python3"
  },
  "language_info": {
   "codemirror_mode": {
    "name": "ipython",
    "version": 3
   },
   "file_extension": ".py",
   "mimetype": "text/x-python",
   "name": "python",
   "nbconvert_exporter": "python",
   "pygments_lexer": "ipython3",
   "version": "3.7.3"
  }
 },
 "nbformat": 4,
 "nbformat_minor": 2
}