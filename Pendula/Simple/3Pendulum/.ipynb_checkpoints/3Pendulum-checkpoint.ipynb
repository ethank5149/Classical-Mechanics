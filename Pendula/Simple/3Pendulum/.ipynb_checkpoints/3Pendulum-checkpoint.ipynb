{
 "cells": [
  {
   "cell_type": "code",
   "execution_count": 4,
   "metadata": {},
   "outputs": [],
   "source": [
    "%matplotlib inline\n",
    "import sympy.physics.mechanics as mech\n",
    "from sympy import S,Rational,pi\n",
    "import sympy as sp"
   ]
  },
  {
   "cell_type": "code",
   "execution_count": 5,
   "metadata": {},
   "outputs": [
    {
     "data": {
      "text/latex": [
       "$\\displaystyle \\left[\\begin{matrix}g l_{1} m_{1} \\sin{\\left(\\operatorname{q_{1}}{\\left(t \\right)} \\right)} + g l_{1} m_{2} \\sin{\\left(\\operatorname{q_{1}}{\\left(t \\right)} \\right)} + g l_{1} m_{3} \\sin{\\left(\\operatorname{q_{1}}{\\left(t \\right)} \\right)} + l_{1}^{2} m_{1} \\sin^{2}{\\left(\\operatorname{q_{1}}{\\left(t \\right)} \\right)} \\frac{d^{2}}{d t^{2}} \\operatorname{q_{1}}{\\left(t \\right)} + l_{1}^{2} m_{1} \\cos^{2}{\\left(\\operatorname{q_{1}}{\\left(t \\right)} \\right)} \\frac{d^{2}}{d t^{2}} \\operatorname{q_{1}}{\\left(t \\right)} + l_{1} m_{2} \\left(- l_{1} \\sin{\\left(\\operatorname{q_{1}}{\\left(t \\right)} \\right)} \\left(\\frac{d}{d t} \\operatorname{q_{1}}{\\left(t \\right)}\\right)^{2} + l_{1} \\cos{\\left(\\operatorname{q_{1}}{\\left(t \\right)} \\right)} \\frac{d^{2}}{d t^{2}} \\operatorname{q_{1}}{\\left(t \\right)} - l_{2} \\sin{\\left(\\operatorname{q_{2}}{\\left(t \\right)} \\right)} \\left(\\frac{d}{d t} \\operatorname{q_{2}}{\\left(t \\right)}\\right)^{2} + l_{2} \\cos{\\left(\\operatorname{q_{2}}{\\left(t \\right)} \\right)} \\frac{d^{2}}{d t^{2}} \\operatorname{q_{2}}{\\left(t \\right)}\\right) \\cos{\\left(\\operatorname{q_{1}}{\\left(t \\right)} \\right)} + l_{1} m_{2} \\left(l_{1} \\sin{\\left(\\operatorname{q_{1}}{\\left(t \\right)} \\right)} \\frac{d^{2}}{d t^{2}} \\operatorname{q_{1}}{\\left(t \\right)} + l_{1} \\cos{\\left(\\operatorname{q_{1}}{\\left(t \\right)} \\right)} \\left(\\frac{d}{d t} \\operatorname{q_{1}}{\\left(t \\right)}\\right)^{2} + l_{2} \\sin{\\left(\\operatorname{q_{2}}{\\left(t \\right)} \\right)} \\frac{d^{2}}{d t^{2}} \\operatorname{q_{2}}{\\left(t \\right)} + l_{2} \\cos{\\left(\\operatorname{q_{2}}{\\left(t \\right)} \\right)} \\left(\\frac{d}{d t} \\operatorname{q_{2}}{\\left(t \\right)}\\right)^{2}\\right) \\sin{\\left(\\operatorname{q_{1}}{\\left(t \\right)} \\right)} + l_{1} m_{3} \\left(- l_{1} \\sin{\\left(\\operatorname{q_{1}}{\\left(t \\right)} \\right)} \\left(\\frac{d}{d t} \\operatorname{q_{1}}{\\left(t \\right)}\\right)^{2} + l_{1} \\cos{\\left(\\operatorname{q_{1}}{\\left(t \\right)} \\right)} \\frac{d^{2}}{d t^{2}} \\operatorname{q_{1}}{\\left(t \\right)} - l_{2} \\sin{\\left(\\operatorname{q_{2}}{\\left(t \\right)} \\right)} \\left(\\frac{d}{d t} \\operatorname{q_{2}}{\\left(t \\right)}\\right)^{2} + l_{2} \\cos{\\left(\\operatorname{q_{2}}{\\left(t \\right)} \\right)} \\frac{d^{2}}{d t^{2}} \\operatorname{q_{2}}{\\left(t \\right)} - l_{3} \\sin{\\left(\\operatorname{q_{3}}{\\left(t \\right)} \\right)} \\left(\\frac{d}{d t} \\operatorname{q_{3}}{\\left(t \\right)}\\right)^{2} + l_{3} \\cos{\\left(\\operatorname{q_{3}}{\\left(t \\right)} \\right)} \\frac{d^{2}}{d t^{2}} \\operatorname{q_{3}}{\\left(t \\right)}\\right) \\cos{\\left(\\operatorname{q_{1}}{\\left(t \\right)} \\right)} + l_{1} m_{3} \\left(l_{1} \\sin{\\left(\\operatorname{q_{1}}{\\left(t \\right)} \\right)} \\frac{d^{2}}{d t^{2}} \\operatorname{q_{1}}{\\left(t \\right)} + l_{1} \\cos{\\left(\\operatorname{q_{1}}{\\left(t \\right)} \\right)} \\left(\\frac{d}{d t} \\operatorname{q_{1}}{\\left(t \\right)}\\right)^{2} + l_{2} \\sin{\\left(\\operatorname{q_{2}}{\\left(t \\right)} \\right)} \\frac{d^{2}}{d t^{2}} \\operatorname{q_{2}}{\\left(t \\right)} + l_{2} \\cos{\\left(\\operatorname{q_{2}}{\\left(t \\right)} \\right)} \\left(\\frac{d}{d t} \\operatorname{q_{2}}{\\left(t \\right)}\\right)^{2} + l_{3} \\sin{\\left(\\operatorname{q_{3}}{\\left(t \\right)} \\right)} \\frac{d^{2}}{d t^{2}} \\operatorname{q_{3}}{\\left(t \\right)} + l_{3} \\cos{\\left(\\operatorname{q_{3}}{\\left(t \\right)} \\right)} \\left(\\frac{d}{d t} \\operatorname{q_{3}}{\\left(t \\right)}\\right)^{2}\\right) \\sin{\\left(\\operatorname{q_{1}}{\\left(t \\right)} \\right)}\\\\g l_{2} m_{2} \\sin{\\left(\\operatorname{q_{2}}{\\left(t \\right)} \\right)} + g l_{2} m_{3} \\sin{\\left(\\operatorname{q_{2}}{\\left(t \\right)} \\right)} + l_{2} m_{2} \\left(- l_{1} \\sin{\\left(\\operatorname{q_{1}}{\\left(t \\right)} \\right)} \\left(\\frac{d}{d t} \\operatorname{q_{1}}{\\left(t \\right)}\\right)^{2} + l_{1} \\cos{\\left(\\operatorname{q_{1}}{\\left(t \\right)} \\right)} \\frac{d^{2}}{d t^{2}} \\operatorname{q_{1}}{\\left(t \\right)} - l_{2} \\sin{\\left(\\operatorname{q_{2}}{\\left(t \\right)} \\right)} \\left(\\frac{d}{d t} \\operatorname{q_{2}}{\\left(t \\right)}\\right)^{2} + l_{2} \\cos{\\left(\\operatorname{q_{2}}{\\left(t \\right)} \\right)} \\frac{d^{2}}{d t^{2}} \\operatorname{q_{2}}{\\left(t \\right)}\\right) \\cos{\\left(\\operatorname{q_{2}}{\\left(t \\right)} \\right)} + l_{2} m_{2} \\left(l_{1} \\sin{\\left(\\operatorname{q_{1}}{\\left(t \\right)} \\right)} \\frac{d^{2}}{d t^{2}} \\operatorname{q_{1}}{\\left(t \\right)} + l_{1} \\cos{\\left(\\operatorname{q_{1}}{\\left(t \\right)} \\right)} \\left(\\frac{d}{d t} \\operatorname{q_{1}}{\\left(t \\right)}\\right)^{2} + l_{2} \\sin{\\left(\\operatorname{q_{2}}{\\left(t \\right)} \\right)} \\frac{d^{2}}{d t^{2}} \\operatorname{q_{2}}{\\left(t \\right)} + l_{2} \\cos{\\left(\\operatorname{q_{2}}{\\left(t \\right)} \\right)} \\left(\\frac{d}{d t} \\operatorname{q_{2}}{\\left(t \\right)}\\right)^{2}\\right) \\sin{\\left(\\operatorname{q_{2}}{\\left(t \\right)} \\right)} + l_{2} m_{3} \\left(- l_{1} \\sin{\\left(\\operatorname{q_{1}}{\\left(t \\right)} \\right)} \\left(\\frac{d}{d t} \\operatorname{q_{1}}{\\left(t \\right)}\\right)^{2} + l_{1} \\cos{\\left(\\operatorname{q_{1}}{\\left(t \\right)} \\right)} \\frac{d^{2}}{d t^{2}} \\operatorname{q_{1}}{\\left(t \\right)} - l_{2} \\sin{\\left(\\operatorname{q_{2}}{\\left(t \\right)} \\right)} \\left(\\frac{d}{d t} \\operatorname{q_{2}}{\\left(t \\right)}\\right)^{2} + l_{2} \\cos{\\left(\\operatorname{q_{2}}{\\left(t \\right)} \\right)} \\frac{d^{2}}{d t^{2}} \\operatorname{q_{2}}{\\left(t \\right)} - l_{3} \\sin{\\left(\\operatorname{q_{3}}{\\left(t \\right)} \\right)} \\left(\\frac{d}{d t} \\operatorname{q_{3}}{\\left(t \\right)}\\right)^{2} + l_{3} \\cos{\\left(\\operatorname{q_{3}}{\\left(t \\right)} \\right)} \\frac{d^{2}}{d t^{2}} \\operatorname{q_{3}}{\\left(t \\right)}\\right) \\cos{\\left(\\operatorname{q_{2}}{\\left(t \\right)} \\right)} + l_{2} m_{3} \\left(l_{1} \\sin{\\left(\\operatorname{q_{1}}{\\left(t \\right)} \\right)} \\frac{d^{2}}{d t^{2}} \\operatorname{q_{1}}{\\left(t \\right)} + l_{1} \\cos{\\left(\\operatorname{q_{1}}{\\left(t \\right)} \\right)} \\left(\\frac{d}{d t} \\operatorname{q_{1}}{\\left(t \\right)}\\right)^{2} + l_{2} \\sin{\\left(\\operatorname{q_{2}}{\\left(t \\right)} \\right)} \\frac{d^{2}}{d t^{2}} \\operatorname{q_{2}}{\\left(t \\right)} + l_{2} \\cos{\\left(\\operatorname{q_{2}}{\\left(t \\right)} \\right)} \\left(\\frac{d}{d t} \\operatorname{q_{2}}{\\left(t \\right)}\\right)^{2} + l_{3} \\sin{\\left(\\operatorname{q_{3}}{\\left(t \\right)} \\right)} \\frac{d^{2}}{d t^{2}} \\operatorname{q_{3}}{\\left(t \\right)} + l_{3} \\cos{\\left(\\operatorname{q_{3}}{\\left(t \\right)} \\right)} \\left(\\frac{d}{d t} \\operatorname{q_{3}}{\\left(t \\right)}\\right)^{2}\\right) \\sin{\\left(\\operatorname{q_{2}}{\\left(t \\right)} \\right)}\\\\g l_{3} m_{3} \\sin{\\left(\\operatorname{q_{3}}{\\left(t \\right)} \\right)} + l_{3} m_{3} \\left(- l_{1} \\sin{\\left(\\operatorname{q_{1}}{\\left(t \\right)} \\right)} \\left(\\frac{d}{d t} \\operatorname{q_{1}}{\\left(t \\right)}\\right)^{2} + l_{1} \\cos{\\left(\\operatorname{q_{1}}{\\left(t \\right)} \\right)} \\frac{d^{2}}{d t^{2}} \\operatorname{q_{1}}{\\left(t \\right)} - l_{2} \\sin{\\left(\\operatorname{q_{2}}{\\left(t \\right)} \\right)} \\left(\\frac{d}{d t} \\operatorname{q_{2}}{\\left(t \\right)}\\right)^{2} + l_{2} \\cos{\\left(\\operatorname{q_{2}}{\\left(t \\right)} \\right)} \\frac{d^{2}}{d t^{2}} \\operatorname{q_{2}}{\\left(t \\right)} - l_{3} \\sin{\\left(\\operatorname{q_{3}}{\\left(t \\right)} \\right)} \\left(\\frac{d}{d t} \\operatorname{q_{3}}{\\left(t \\right)}\\right)^{2} + l_{3} \\cos{\\left(\\operatorname{q_{3}}{\\left(t \\right)} \\right)} \\frac{d^{2}}{d t^{2}} \\operatorname{q_{3}}{\\left(t \\right)}\\right) \\cos{\\left(\\operatorname{q_{3}}{\\left(t \\right)} \\right)} + l_{3} m_{3} \\left(l_{1} \\sin{\\left(\\operatorname{q_{1}}{\\left(t \\right)} \\right)} \\frac{d^{2}}{d t^{2}} \\operatorname{q_{1}}{\\left(t \\right)} + l_{1} \\cos{\\left(\\operatorname{q_{1}}{\\left(t \\right)} \\right)} \\left(\\frac{d}{d t} \\operatorname{q_{1}}{\\left(t \\right)}\\right)^{2} + l_{2} \\sin{\\left(\\operatorname{q_{2}}{\\left(t \\right)} \\right)} \\frac{d^{2}}{d t^{2}} \\operatorname{q_{2}}{\\left(t \\right)} + l_{2} \\cos{\\left(\\operatorname{q_{2}}{\\left(t \\right)} \\right)} \\left(\\frac{d}{d t} \\operatorname{q_{2}}{\\left(t \\right)}\\right)^{2} + l_{3} \\sin{\\left(\\operatorname{q_{3}}{\\left(t \\right)} \\right)} \\frac{d^{2}}{d t^{2}} \\operatorname{q_{3}}{\\left(t \\right)} + l_{3} \\cos{\\left(\\operatorname{q_{3}}{\\left(t \\right)} \\right)} \\left(\\frac{d}{d t} \\operatorname{q_{3}}{\\left(t \\right)}\\right)^{2}\\right) \\sin{\\left(\\operatorname{q_{3}}{\\left(t \\right)} \\right)}\\end{matrix}\\right]$"
      ],
      "text/plain": [
       "Matrix([\n",
       "[g*l1*m1*sin(q1(t)) + g*l1*m2*sin(q1(t)) + g*l1*m3*sin(q1(t)) + l1**2*m1*sin(q1(t))**2*Derivative(q1(t), (t, 2)) + l1**2*m1*cos(q1(t))**2*Derivative(q1(t), (t, 2)) + l1*m2*(-l1*sin(q1(t))*Derivative(q1(t), t)**2 + l1*cos(q1(t))*Derivative(q1(t), (t, 2)) - l2*sin(q2(t))*Derivative(q2(t), t)**2 + l2*cos(q2(t))*Derivative(q2(t), (t, 2)))*cos(q1(t)) + l1*m2*(l1*sin(q1(t))*Derivative(q1(t), (t, 2)) + l1*cos(q1(t))*Derivative(q1(t), t)**2 + l2*sin(q2(t))*Derivative(q2(t), (t, 2)) + l2*cos(q2(t))*Derivative(q2(t), t)**2)*sin(q1(t)) + l1*m3*(-l1*sin(q1(t))*Derivative(q1(t), t)**2 + l1*cos(q1(t))*Derivative(q1(t), (t, 2)) - l2*sin(q2(t))*Derivative(q2(t), t)**2 + l2*cos(q2(t))*Derivative(q2(t), (t, 2)) - l3*sin(q3(t))*Derivative(q3(t), t)**2 + l3*cos(q3(t))*Derivative(q3(t), (t, 2)))*cos(q1(t)) + l1*m3*(l1*sin(q1(t))*Derivative(q1(t), (t, 2)) + l1*cos(q1(t))*Derivative(q1(t), t)**2 + l2*sin(q2(t))*Derivative(q2(t), (t, 2)) + l2*cos(q2(t))*Derivative(q2(t), t)**2 + l3*sin(q3(t))*Derivative(q3(t), (t, 2)) + l3*cos(q3(t))*Derivative(q3(t), t)**2)*sin(q1(t))],\n",
       "[                                                                                                                           g*l2*m2*sin(q2(t)) + g*l2*m3*sin(q2(t)) + l2*m2*(-l1*sin(q1(t))*Derivative(q1(t), t)**2 + l1*cos(q1(t))*Derivative(q1(t), (t, 2)) - l2*sin(q2(t))*Derivative(q2(t), t)**2 + l2*cos(q2(t))*Derivative(q2(t), (t, 2)))*cos(q2(t)) + l2*m2*(l1*sin(q1(t))*Derivative(q1(t), (t, 2)) + l1*cos(q1(t))*Derivative(q1(t), t)**2 + l2*sin(q2(t))*Derivative(q2(t), (t, 2)) + l2*cos(q2(t))*Derivative(q2(t), t)**2)*sin(q2(t)) + l2*m3*(-l1*sin(q1(t))*Derivative(q1(t), t)**2 + l1*cos(q1(t))*Derivative(q1(t), (t, 2)) - l2*sin(q2(t))*Derivative(q2(t), t)**2 + l2*cos(q2(t))*Derivative(q2(t), (t, 2)) - l3*sin(q3(t))*Derivative(q3(t), t)**2 + l3*cos(q3(t))*Derivative(q3(t), (t, 2)))*cos(q2(t)) + l2*m3*(l1*sin(q1(t))*Derivative(q1(t), (t, 2)) + l1*cos(q1(t))*Derivative(q1(t), t)**2 + l2*sin(q2(t))*Derivative(q2(t), (t, 2)) + l2*cos(q2(t))*Derivative(q2(t), t)**2 + l3*sin(q3(t))*Derivative(q3(t), (t, 2)) + l3*cos(q3(t))*Derivative(q3(t), t)**2)*sin(q2(t))],\n",
       "[                                                                                                                                                                                                                                                                                                                                                                                                                                                                                                                               g*l3*m3*sin(q3(t)) + l3*m3*(-l1*sin(q1(t))*Derivative(q1(t), t)**2 + l1*cos(q1(t))*Derivative(q1(t), (t, 2)) - l2*sin(q2(t))*Derivative(q2(t), t)**2 + l2*cos(q2(t))*Derivative(q2(t), (t, 2)) - l3*sin(q3(t))*Derivative(q3(t), t)**2 + l3*cos(q3(t))*Derivative(q3(t), (t, 2)))*cos(q3(t)) + l3*m3*(l1*sin(q1(t))*Derivative(q1(t), (t, 2)) + l1*cos(q1(t))*Derivative(q1(t), t)**2 + l2*sin(q2(t))*Derivative(q2(t), (t, 2)) + l2*cos(q2(t))*Derivative(q2(t), t)**2 + l3*sin(q3(t))*Derivative(q3(t), (t, 2)) + l3*cos(q3(t))*Derivative(q3(t), t)**2)*sin(q3(t))]])"
      ]
     },
     "execution_count": 5,
     "metadata": {},
     "output_type": "execute_result"
    }
   ],
   "source": [
    "l1,l2,l3= sp.symbols(r'l1:4')\n",
    "m1,m2,m3= sp.symbols(r'm1:4')\n",
    "l,t,m,g= sp.symbols(r'l t m g')\n",
    "q1,q2,q3 = mech.dynamicsymbols(r'q1:4')\n",
    "q1d,q2d,q3d = mech.dynamicsymbols(r'q1:4', 1)\n",
    "\n",
    "# Create and initialize the reference frame\n",
    "N = mech.ReferenceFrame('N')\n",
    "pointN = mech.Point('N*')\n",
    "pointN.set_vel(N, 0)\n",
    "\n",
    "# Create the points\n",
    "point1 = pointN.locatenew('point_1', l1*(sp.sin(q1)*N.x-sp.cos(q1)*N.y))\n",
    "point2 = point1.locatenew('point_2', l2*(sp.sin(q2)*N.x-sp.cos(q2)*N.y))\n",
    "point3 = point2.locatenew('point_3', l3*(sp.sin(q3)*N.x-sp.cos(q3)*N.y))\n",
    "\n",
    "# Set the points' velocities\n",
    "point1.set_vel(N, point1.pos_from(pointN).dt(N))\n",
    "point2.set_vel(N, point2.pos_from(pointN).dt(N))\n",
    "point3.set_vel(N, point3.pos_from(pointN).dt(N))\n",
    "\n",
    "# Create the particles\n",
    "particle1 = mech.Particle('Particle_1',point1,m1)\n",
    "particle2 = mech.Particle('Particle_2',point2,m2)\n",
    "particle3 = mech.Particle('Particle_3',point3,m3)\n",
    "\n",
    "# Set the particles' potential energy\n",
    "\n",
    "# Define forces\n",
    "forces=[(point1,-particle1.mass*g*N.y),(point2,-particle2.mass*g*N.y),(point3,-particle3.mass*g*N.y)]\n",
    "\n",
    "# Construct the Lagrangian\n",
    "L = mech.Lagrangian(N, particle1,particle2,particle3)\n",
    "\n",
    "# Create the LagrangesMethod object\n",
    "LM = mech.LagrangesMethod(L, [q1,q2,q3], hol_coneqs=None, forcelist=forces, frame=N)\n",
    "\n",
    "# Form Lagranges Equations\n",
    "ELeqns = LM.form_lagranges_equations()\n",
    "ELeqns"
   ]
  },
  {
   "cell_type": "code",
   "execution_count": null,
   "metadata": {},
   "outputs": [],
   "source": []
  },
  {
   "cell_type": "code",
   "execution_count": null,
   "metadata": {},
   "outputs": [],
   "source": []
  }
 ],
 "metadata": {
  "kernelspec": {
   "display_name": "Python 3",
   "language": "python",
   "name": "python3"
  },
  "language_info": {
   "codemirror_mode": {
    "name": "ipython",
    "version": 3
   },
   "file_extension": ".py",
   "mimetype": "text/x-python",
   "name": "python",
   "nbconvert_exporter": "python",
   "pygments_lexer": "ipython3",
   "version": "3.7.7"
  }
 },
 "nbformat": 4,
 "nbformat_minor": 2
}
