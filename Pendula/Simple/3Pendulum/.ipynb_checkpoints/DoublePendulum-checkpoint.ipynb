{
 "cells": [
  {
   "cell_type": "code",
   "execution_count": 1,
   "metadata": {},
   "outputs": [],
   "source": [
    "from sympy.physics.mechanics import *\n",
    "import sympy as sp\n",
    "mechanics_printing(pretty_print=True)"
   ]
  },
  {
   "cell_type": "code",
   "execution_count": 2,
   "metadata": {},
   "outputs": [],
   "source": [
    "m1,m2,l1,l2 = sp.symbols(r'm_1,m_2,l_1,l_2')\n",
    "t,g,h = sp.symbols('t,g,h')\n",
    "v1, v2 = dynamicsymbols(r'\\theta_1 \\theta_2')\n",
    "dv1, dv2 = dynamicsymbols(r'\\theta_1 \\theta_2', 1)"
   ]
  },
  {
   "cell_type": "code",
   "execution_count": 4,
   "metadata": {},
   "outputs": [],
   "source": [
    "x1 = l1*sp.sin(v1)\n",
    "y1 = -l1*sp.cos(v1)\n",
    "x2 = x1 + l2*sp.sin(v2)\n",
    "y2 = y1 + -l2*sp.cos(v2)\n",
    "\n",
    "dx1 = x1.diff(t)\n",
    "dy1 = y1.diff(t)\n",
    "dx2 = x2.diff(t)\n",
    "dy2 = y2.diff(t)"
   ]
  },
  {
   "cell_type": "code",
   "execution_count": 5,
   "metadata": {},
   "outputs": [],
   "source": [
    "V = m1*g*y1 + m2*g*y2\n",
    "T = sp.Rational(1, 2)*m1*(dx1**2+dy1**2)+sp.Rational(1, 2)*m2*(dx2**2+dy2**2)\n",
    "L = T - V"
   ]
  },
  {
   "cell_type": "code",
   "execution_count": 7,
   "metadata": {},
   "outputs": [],
   "source": [
    "LM = LagrangesMethod(L, [v1, v2])"
   ]
  },
  {
   "cell_type": "code",
   "execution_count": 8,
   "metadata": {},
   "outputs": [],
   "source": [
    "soln = LM.form_lagranges_equations()"
   ]
  },
  {
   "cell_type": "code",
   "execution_count": 9,
   "metadata": {},
   "outputs": [],
   "source": [
    "solvedsoln = sp.solve((sp.Eq(soln[0]),sp.Eq(soln[1])),(v1.diff(t,t),v2.diff(t,t)))"
   ]
  },
  {
   "cell_type": "code",
   "execution_count": 10,
   "metadata": {},
   "outputs": [
    {
     "data": {
      "image/png": "[encoded data removed]",
      "text/latex": [
       "$$\\left \\{ \\ddot{heta}_{1} : - \\frac{g m_{1} \\operatorname{sin}\\left(heta_{1}\\right) + \\frac{g m_{2} \\operatorname{sin}\\left(heta_{1} - 2 heta_{2}\\right)}{2} + \\frac{g m_{2} \\operatorname{sin}\\left(heta_{1}\\right)}{2} + \\frac{l_{1} m_{2} \\operatorname{sin}\\left(2 heta_{1} - 2 heta_{2}\\right) \\dot{heta}_{1}^{2}}{2} + l_{2} m_{2} \\operatorname{sin}\\left(heta_{1} - heta_{2}\\right) \\dot{heta}_{2}^{2}}{l_{1} \\left(m_{1} - m_{2} \\operatorname{cos}^{2}\\left(heta_{1} - heta_{2}\\right) + m_{2}\\right)}, \\quad \\ddot{heta}_{2} : \\frac{- \\left(m_{1} + m_{2}\\right) \\left(g \\operatorname{sin}\\left(heta_{2}\\right) - l_{1} \\operatorname{sin}\\left(heta_{1} - heta_{2}\\right) \\dot{heta}_{1}^{2}\\right) + \\left(g m_{1} \\operatorname{sin}\\left(heta_{1}\\right) + g m_{2} \\operatorname{sin}\\left(heta_{1}\\right) + l_{2} m_{2} \\operatorname{sin}\\left(heta_{1} - heta_{2}\\right) \\dot{heta}_{2}^{2}\\right) \\operatorname{cos}\\left(heta_{1} - heta_{2}\\right)}{l_{2} \\left(m_{1} - m_{2} \\operatorname{cos}^{2}\\left(heta_{1} - heta_{2}\\right) + m_{2}\\right)}\\right \\}$$"
      ],
      "text/plain": [
       "⎧         ⎛                                                                   \n",
       "⎪         ⎜                  g⋅m₂⋅sin(heta₁ - 2⋅heta₂)   g⋅m₂⋅sin(heta₁)   l₁⋅\n",
       "⎪        -⎜g⋅m₁⋅sin(heta₁) + ───────────────────────── + ─────────────── + ───\n",
       "⎨         ⎝                              2                      2             \n",
       "⎪heẗa₁: ─────────────────────────────────────────────────────────────────────\n",
       "⎪                                                              ⎛           2  \n",
       "⎩                                                           l₁⋅⎝m₁ - m₂⋅cos (h\n",
       "\n",
       "                                2                                   ⎞         \n",
       "m₂⋅sin(2⋅heta₁ - 2⋅heta₂)⋅heṫa₁                                   2⎟         \n",
       "───────────────────────────────── + l₂⋅m₂⋅sin(heta₁ - heta₂)⋅heṫa₂ ⎟         \n",
       "              2                                                     ⎠         \n",
       "──────────────────────────────────────────────────────────────────────, heẗa₂\n",
       "                  ⎞                                                           \n",
       "eta₁ - heta₂) + m₂⎠                                                           \n",
       "\n",
       "                                                                              \n",
       "                                                                              \n",
       "              ⎛                                           2⎞   ⎛              \n",
       "  - (m₁ + m₂)⋅⎝g⋅sin(heta₂) - l₁⋅sin(heta₁ - heta₂)⋅heṫa₁ ⎠ + ⎝g⋅m₁⋅sin(heta₁\n",
       ": ────────────────────────────────────────────────────────────────────────────\n",
       "                                                             ⎛           2    \n",
       "                                                          l₂⋅⎝m₁ - m₂⋅cos (het\n",
       "\n",
       "                                                                          ⎫\n",
       "                                                                          ⎪\n",
       "                                                     2⎞                   ⎪\n",
       ") + g⋅m₂⋅sin(heta₁) + l₂⋅m₂⋅sin(heta₁ - heta₂)⋅heṫa₂ ⎠⋅cos(heta₁ - heta₂)⎬\n",
       "──────────────────────────────────────────────────────────────────────────⎪\n",
       "                ⎞                                                         ⎪\n",
       "a₁ - heta₂) + m₂⎠                                                         ⎭"
      ]
     },
     "execution_count": 10,
     "metadata": {},
     "output_type": "execute_result"
    }
   ],
   "source": [
    "solvedsoln"
   ]
  },
  {
   "cell_type": "code",
   "execution_count": null,
   "metadata": {},
   "outputs": [],
   "source": []
  }
 ],
 "metadata": {
  "kernelspec": {
   "display_name": "Python 3",
   "language": "python",
   "name": "python3"
  },
  "language_info": {
   "codemirror_mode": {
    "name": "ipython",
    "version": 3
   },
   "file_extension": ".py",
   "mimetype": "text/x-python",
   "name": "python",
   "nbconvert_exporter": "python",
   "pygments_lexer": "ipython3",
   "version": "3.7.3"
  }
 },
 "nbformat": 4,
 "nbformat_minor": 2
}
