{
 "cells": [
  {
   "cell_type": "code",
   "execution_count": 1,
   "metadata": {},
   "outputs": [],
   "source": [
    "from sympy.physics.mechanics import *\n",
    "import sympy as sp\n",
    "mechanics_printing(pretty_print=True)"
   ]
  },
  {
   "cell_type": "code",
   "execution_count": 10,
   "metadata": {},
   "outputs": [],
   "source": [
    "m,l = sp.symbols(r'm,l')\n",
    "t,g,h = sp.symbols('t,g,h')\n",
    "v = dynamicsymbols(r'\\theta')\n",
    "dv = dynamicsymbols(r'\\theta', 1)"
   ]
  },
  {
   "cell_type": "code",
   "execution_count": 11,
   "metadata": {},
   "outputs": [],
   "source": [
    "x = l*sp.sin(v)\n",
    "y = -l*sp.cos(v)\n",
    "\n",
    "dx = x.diff(t)\n",
    "dy = y.diff(t)"
   ]
  },
  {
   "cell_type": "code",
   "execution_count": 12,
   "metadata": {},
   "outputs": [],
   "source": [
    "V = m*g*y\n",
    "T = sp.Rational(1, 2)*m*(dx**2+dy**2)\n",
    "L = T - V"
   ]
  },
  {
   "cell_type": "code",
   "execution_count": 17,
   "metadata": {},
   "outputs": [
    {
     "data": {
      "image/png": "[encoded data removed]",
      "text/latex": [
       "$$- g l m \\operatorname{cos}\\left(\\theta\\right)$$"
      ],
      "text/plain": [
       "-g⋅l⋅m⋅cos(\\theta)"
      ]
     },
     "execution_count": 17,
     "metadata": {},
     "output_type": "execute_result"
    }
   ],
   "source": [
    "V"
   ]
  },
  {
   "cell_type": "code",
   "execution_count": 19,
   "metadata": {},
   "outputs": [
    {
     "data": {
      "image/png": "[encoded data removed]",
      "text/latex": [
       "$$\\frac{l^{2} m \\dot{\\theta}^{2}}{2}$$"
      ],
      "text/plain": [
       " 2          2\n",
       "l ⋅m⋅\\thėta \n",
       "─────────────\n",
       "      2      "
      ]
     },
     "execution_count": 19,
     "metadata": {},
     "output_type": "execute_result"
    }
   ],
   "source": [
    "sp.simplify(T)"
   ]
  },
  {
   "cell_type": "code",
   "execution_count": 20,
   "metadata": {},
   "outputs": [
    {
     "data": {
      "image/png": "[encoded data removed]",
      "text/latex": [
       "$$g l m \\operatorname{cos}\\left(\\theta\\right) + \\frac{m \\left(l^{2} \\operatorname{sin}^{2}\\left(\\theta\\right) \\dot{\\theta}^{2} + l^{2} \\operatorname{cos}^{2}\\left(\\theta\\right) \\dot{\\theta}^{2}\\right)}{2}$$"
      ],
      "text/plain": [
       "                      ⎛ 2    2                2    2    2                2⎞\n",
       "                    m⋅⎝l ⋅sin (\\theta)⋅\\thėta  + l ⋅cos (\\theta)⋅\\thėta ⎠\n",
       "g⋅l⋅m⋅cos(\\theta) + ───────────────────────────────────────────────────────\n",
       "                                               2                           "
      ]
     },
     "execution_count": 20,
     "metadata": {},
     "output_type": "execute_result"
    }
   ],
   "source": [
    "L"
   ]
  },
  {
   "cell_type": "code",
   "execution_count": 13,
   "metadata": {},
   "outputs": [],
   "source": [
    "LM = LagrangesMethod(L, [v])"
   ]
  },
  {
   "cell_type": "code",
   "execution_count": 14,
   "metadata": {},
   "outputs": [],
   "source": [
    "soln = LM.form_lagranges_equations()"
   ]
  },
  {
   "cell_type": "code",
   "execution_count": 15,
   "metadata": {},
   "outputs": [],
   "source": [
    "solvedsoln = sp.solve(sp.Eq(soln[0]),v.diff(t,t))"
   ]
  },
  {
   "cell_type": "code",
   "execution_count": 16,
   "metadata": {},
   "outputs": [
    {
     "data": {
      "image/png": "[encoded data removed]",
      "text/latex": [
       "$$\\left [ - \\frac{g \\operatorname{sin}\\left(\\theta\\right)}{l}\\right ]$$"
      ],
      "text/plain": [
       "⎡-g⋅sin(\\theta) ⎤\n",
       "⎢───────────────⎥\n",
       "⎣       l       ⎦"
      ]
     },
     "execution_count": 16,
     "metadata": {},
     "output_type": "execute_result"
    }
   ],
   "source": [
    "solvedsoln"
   ]
  },
  {
   "cell_type": "code",
   "execution_count": null,
   "metadata": {},
   "outputs": [],
   "source": []
  }
 ],
 "metadata": {
  "kernelspec": {
   "display_name": "Python 3",
   "language": "python",
   "name": "python3"
  },
  "language_info": {
   "codemirror_mode": {
    "name": "ipython",
    "version": 3
   },
   "file_extension": ".py",
   "mimetype": "text/x-python",
   "name": "python",
   "nbconvert_exporter": "python",
   "pygments_lexer": "ipython3",
   "version": "3.7.3"
  }
 },
 "nbformat": 4,
 "nbformat_minor": 2
}
