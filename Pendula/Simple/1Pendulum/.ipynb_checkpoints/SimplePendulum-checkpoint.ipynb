{
 "cells": [
  {
   "cell_type": "code",
   "execution_count": 1,
   "metadata": {},
   "outputs": [],
   "source": [
    "from sympy.physics.mechanics import *\n",
    "import sympy as sp\n",
    "mechanics_printing(pretty_print=True)"
   ]
  },
  {
   "cell_type": "code",
   "execution_count": 2,
   "metadata": {},
   "outputs": [],
   "source": [
    "m,l = sp.symbols(r'm,l')\n",
    "t,g,h = sp.symbols('t,g,h')\n",
    "v = dynamicsymbols(r'\\theta')\n",
    "dv = dynamicsymbols(r'\\theta', 1)"
   ]
  },
  {
   "cell_type": "code",
   "execution_count": 4,
   "metadata": {},
   "outputs": [],
   "source": [
    "x = l*sp.sin(v)\n",
    "y = -l*sp.cos(v)\n",
    "\n",
    "dx = x.diff(t)\n",
    "dy = y.diff(t)"
   ]
  },
  {
   "cell_type": "code",
   "execution_count": 5,
   "metadata": {},
   "outputs": [],
   "source": [
    "V = m*g*y\n",
    "T = sp.Rational(1, 2)*m*(dx**2+dy**2)\n",
    "L = T - V"
   ]
  },
  {
   "cell_type": "code",
   "execution_count": 6,
   "metadata": {},
   "outputs": [],
   "source": [
    "LM = LagrangesMethod(L, [v])"
   ]
  },
  {
   "cell_type": "code",
   "execution_count": 7,
   "metadata": {},
   "outputs": [],
   "source": [
    "soln = LM.form_lagranges_equations()"
   ]
  },
  {
   "cell_type": "code",
   "execution_count": 8,
   "metadata": {},
   "outputs": [],
   "source": [
    "solvedsoln = sp.solve(sp.Eq(soln[0]),v.diff(t,t))"
   ]
  },
  {
   "cell_type": "code",
   "execution_count": 9,
   "metadata": {},
   "outputs": [
    {
     "data": {
      "image/png": "[encoded data removed]",
      "text/latex": [
       "$$\\left [ - \\frac{g \\operatorname{sin}\\left(heta\\right)}{l}\\right ]$$"
      ],
      "text/plain": [
       "⎡-g⋅sin(heta) ⎤\n",
       "⎢─────────────⎥\n",
       "⎣      l      ⎦"
      ]
     },
     "execution_count": 9,
     "metadata": {},
     "output_type": "execute_result"
    }
   ],
   "source": [
    "solvedsoln"
   ]
  },
  {
   "cell_type": "code",
   "execution_count": null,
   "metadata": {},
   "outputs": [],
   "source": []
  }
 ],
 "metadata": {
  "kernelspec": {
   "display_name": "Python 3",
   "language": "python",
   "name": "python3"
  },
  "language_info": {
   "codemirror_mode": {
    "name": "ipython",
    "version": 3
   },
   "file_extension": ".py",
   "mimetype": "text/x-python",
   "name": "python",
   "nbconvert_exporter": "python",
   "pygments_lexer": "ipython3",
   "version": "3.7.3"
  }
 },
 "nbformat": 4,
 "nbformat_minor": 2
}
