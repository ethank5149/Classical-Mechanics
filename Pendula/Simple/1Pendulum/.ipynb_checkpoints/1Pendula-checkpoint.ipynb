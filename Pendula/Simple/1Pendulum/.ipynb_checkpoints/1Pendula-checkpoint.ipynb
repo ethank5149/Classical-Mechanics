{
 "cells": [
  {
   "cell_type": "code",
   "execution_count": 1,
   "metadata": {},
   "outputs": [],
   "source": [
    "%matplotlib inline\n",
    "import sympy.physics.mechanics as mech\n",
    "from sympy import S,Rational,pi\n",
    "import sympy as sp"
   ]
  },
  {
   "cell_type": "code",
   "execution_count": null,
   "metadata": {},
   "outputs": [],
   "source": [
    "l,t,m,g= sp.symbols(r'l t m g')\n",
    "q1 = mech.dynamicsymbols('q_1')\n",
    "q1d = mech.dynamicsymbols('q_1', 1)\n",
    "\n",
    "# Create and initialize the reference frame\n",
    "N = mech.ReferenceFrame('N')\n",
    "pointN = mech.Point('N*')\n",
    "pointN.set_vel(N, 0)\n",
    "\n",
    "# Create the points\n",
    "point1 = pointN.locatenew('p_1', l*(sp.sin(q1)*N.x-sp.cos(q1)*N.y))\n",
    "\n",
    "# Set the points' velocities\n",
    "point1.set_vel(N, point1.pos_from(pointN).dt(N))\n",
    "\n",
    "# Create the particles\n",
    "particle1 = mech.Particle('P_1',point1,m)\n",
    "\n",
    "# Set the particles' potential energy\n",
    "particle1.potential_energy = particle1.mass*g*point1.pos_from(pointN).dot(N.y)\n",
    "\n",
    "# Define forces not coming from a potential function\n",
    "\n",
    "forces=None\n",
    "\n",
    "# Construct the Lagrangian\n",
    "L = mech.Lagrangian(N, particle1)\n",
    "\n",
    "# Create the LagrangesMethod object\n",
    "LM = mech.LagrangesMethod(L, [q1], hol_coneqs=None, forcelist=forces, frame=N)\n",
    "\n",
    "# Form Lagranges Equations\n",
    "ELeqns = LM.form_lagranges_equations()\n",
    "sp.simplify(ELeqns)\n",
    "\n",
    "\n",
    "# # Holonomic Constraint Equations\n",
    "# f_c = Matrix([q1**2 + q2**2 - L**2,q1**2 + q2**2 - L**2])"
   ]
  },
  {
   "cell_type": "code",
   "execution_count": 3,
   "metadata": {},
   "outputs": [
    {
     "data": {
      "text/latex": [
       "$\\displaystyle \\left[\\begin{matrix}\\frac{d}{d t} \\operatorname{q_{1}}{\\left(t \\right)}\\\\- \\frac{g \\sin{\\left(\\operatorname{q_{1}}{\\left(t \\right)} \\right)}}{l}\\end{matrix}\\right]$"
      ],
      "text/plain": [
       "Matrix([\n",
       "[Derivative(q_1(t), t)],\n",
       "[     -g*sin(q_1(t))/l]])"
      ]
     },
     "execution_count": 3,
     "metadata": {},
     "output_type": "execute_result"
    }
   ],
   "source": [
    "sp.simplify(LM.rhs())"
   ]
  },
  {
   "cell_type": "code",
   "execution_count": 4,
   "metadata": {},
   "outputs": [
    {
     "ename": "AttributeError",
     "evalue": "'LagrangesMethod' object has no attribute '_uaux'",
     "output_type": "error",
     "traceback": [
      "\u001b[1;31m---------------------------------------------------------------------------\u001b[0m",
      "\u001b[1;31mAttributeError\u001b[0m                            Traceback (most recent call last)",
      "\u001b[1;32m<ipython-input-4-a4c2db7c0acf>\u001b[0m in \u001b[0;36m<module>\u001b[1;34m\u001b[0m\n\u001b[0;32m      7\u001b[0m              initial_conditions={\n\u001b[0;32m      8\u001b[0m                  q1:1.5,q1d:0.0},\n\u001b[1;32m----> 9\u001b[1;33m              times=linspace(0.0, 10.0, 1000))\n\u001b[0m\u001b[0;32m     10\u001b[0m \u001b[0my\u001b[0m \u001b[1;33m=\u001b[0m \u001b[0msys\u001b[0m\u001b[1;33m.\u001b[0m\u001b[0mintegrate\u001b[0m\u001b[1;33m(\u001b[0m\u001b[1;33m)\u001b[0m\u001b[1;33m\u001b[0m\u001b[1;33m\u001b[0m\u001b[0m\n",
      "\u001b[1;32mC:\\ProgramData\\Anaconda3\\lib\\site-packages\\pydy\\system.py\u001b[0m in \u001b[0;36m__init__\u001b[1;34m(self, eom_method, constants, specifieds, ode_solver, initial_conditions, times)\u001b[0m\n\u001b[0;32m    103\u001b[0m \u001b[1;33m\u001b[0m\u001b[0m\n\u001b[0;32m    104\u001b[0m         \u001b[1;31m# TODO : What if user adds symbols after constructing a System?\u001b[0m\u001b[1;33m\u001b[0m\u001b[1;33m\u001b[0m\u001b[1;33m\u001b[0m\u001b[0m\n\u001b[1;32m--> 105\u001b[1;33m         \u001b[0mself\u001b[0m\u001b[1;33m.\u001b[0m\u001b[0m_constants_symbols\u001b[0m \u001b[1;33m=\u001b[0m \u001b[0mself\u001b[0m\u001b[1;33m.\u001b[0m\u001b[0m_Kane_constant_symbols\u001b[0m\u001b[1;33m(\u001b[0m\u001b[1;33m)\u001b[0m\u001b[1;33m\u001b[0m\u001b[1;33m\u001b[0m\u001b[0m\n\u001b[0m\u001b[0;32m    106\u001b[0m         \u001b[0mself\u001b[0m\u001b[1;33m.\u001b[0m\u001b[0m_specifieds_symbols\u001b[0m \u001b[1;33m=\u001b[0m \u001b[0mself\u001b[0m\u001b[1;33m.\u001b[0m\u001b[0m_Kane_undefined_dynamicsymbols\u001b[0m\u001b[1;33m(\u001b[0m\u001b[1;33m)\u001b[0m\u001b[1;33m\u001b[0m\u001b[1;33m\u001b[0m\u001b[0m\n\u001b[0;32m    107\u001b[0m \u001b[1;33m\u001b[0m\u001b[0m\n",
      "\u001b[1;32mC:\\ProgramData\\Anaconda3\\lib\\site-packages\\pydy\\system.py\u001b[0m in \u001b[0;36m_Kane_constant_symbols\u001b[1;34m(self)\u001b[0m\n\u001b[0;32m    591\u001b[0m \u001b[1;33m\u001b[0m\u001b[0m\n\u001b[0;32m    592\u001b[0m         \"\"\"\n\u001b[1;32m--> 593\u001b[1;33m         \u001b[0mfrom_eoms\u001b[0m\u001b[1;33m,\u001b[0m \u001b[0mfrom_sym_lists\u001b[0m \u001b[1;33m=\u001b[0m \u001b[0mself\u001b[0m\u001b[1;33m.\u001b[0m\u001b[0m_Kane_inlist_insyms\u001b[0m\u001b[1;33m(\u001b[0m\u001b[1;33m)\u001b[0m\u001b[1;33m\u001b[0m\u001b[1;33m\u001b[0m\u001b[0m\n\u001b[0m\u001b[0;32m    594\u001b[0m         \u001b[0munique_symbols\u001b[0m \u001b[1;33m=\u001b[0m \u001b[0mset\u001b[0m\u001b[1;33m(\u001b[0m\u001b[1;33m)\u001b[0m\u001b[1;33m\u001b[0m\u001b[1;33m\u001b[0m\u001b[0m\n\u001b[0;32m    595\u001b[0m         \u001b[1;32mfor\u001b[0m \u001b[0mexpr\u001b[0m \u001b[1;32min\u001b[0m \u001b[0mfrom_eoms\u001b[0m\u001b[1;33m:\u001b[0m\u001b[1;33m\u001b[0m\u001b[1;33m\u001b[0m\u001b[0m\n",
      "\u001b[1;32mC:\\ProgramData\\Anaconda3\\lib\\site-packages\\pydy\\system.py\u001b[0m in \u001b[0;36m_Kane_inlist_insyms\u001b[1;34m(self)\u001b[0m\n\u001b[0;32m    545\u001b[0m         \u001b[1;34m\"\"\"TODO temporary.\"\"\"\u001b[0m\u001b[1;33m\u001b[0m\u001b[1;33m\u001b[0m\u001b[0m\n\u001b[0;32m    546\u001b[0m \u001b[1;33m\u001b[0m\u001b[0m\n\u001b[1;32m--> 547\u001b[1;33m         \u001b[0muaux\u001b[0m \u001b[1;33m=\u001b[0m \u001b[0mself\u001b[0m\u001b[1;33m.\u001b[0m\u001b[0meom_method\u001b[0m\u001b[1;33m.\u001b[0m\u001b[0m_uaux\u001b[0m\u001b[1;33m[\u001b[0m\u001b[1;33m:\u001b[0m\u001b[1;33m]\u001b[0m\u001b[1;33m\u001b[0m\u001b[1;33m\u001b[0m\u001b[0m\n\u001b[0m\u001b[0;32m    548\u001b[0m         \u001b[0muauxdot\u001b[0m \u001b[1;33m=\u001b[0m \u001b[1;33m[\u001b[0m\u001b[0msm\u001b[0m\u001b[1;33m.\u001b[0m\u001b[0mdiff\u001b[0m\u001b[1;33m(\u001b[0m\u001b[0mi\u001b[0m\u001b[1;33m,\u001b[0m \u001b[0mdynamicsymbols\u001b[0m\u001b[1;33m.\u001b[0m\u001b[0m_t\u001b[0m\u001b[1;33m)\u001b[0m \u001b[1;32mfor\u001b[0m \u001b[0mi\u001b[0m \u001b[1;32min\u001b[0m \u001b[0muaux\u001b[0m\u001b[1;33m]\u001b[0m\u001b[1;33m\u001b[0m\u001b[1;33m\u001b[0m\u001b[0m\n\u001b[0;32m    549\u001b[0m \u001b[1;33m\u001b[0m\u001b[0m\n",
      "\u001b[1;31mAttributeError\u001b[0m: 'LagrangesMethod' object has no attribute '_uaux'"
     ]
    }
   ],
   "source": [
    "from numpy import array, linspace, sin, cos\n",
    "from pydy.system import System\n",
    "import numpy as np\n",
    "\n",
    "sys = System(LM,constants={\n",
    "    m:1.0,l:1.0,g:9.81},\n",
    "             initial_conditions={\n",
    "                 q1:1.5,q1d:0.0},\n",
    "             times=linspace(0.0, 10.0, 1000))\n",
    "y = sys.integrate()"
   ]
  },
  {
   "cell_type": "code",
   "execution_count": null,
   "metadata": {},
   "outputs": [],
   "source": []
  }
 ],
 "metadata": {
  "kernelspec": {
   "display_name": "Python 3",
   "language": "python",
   "name": "python3"
  },
  "language_info": {
   "codemirror_mode": {
    "name": "ipython",
    "version": 3
   },
   "file_extension": ".py",
   "mimetype": "text/x-python",
   "name": "python",
   "nbconvert_exporter": "python",
   "pygments_lexer": "ipython3",
   "version": "3.7.7"
  }
 },
 "nbformat": 4,
 "nbformat_minor": 2
}
