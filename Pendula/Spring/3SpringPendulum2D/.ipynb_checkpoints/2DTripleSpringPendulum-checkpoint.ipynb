{
 "cells": [
  {
   "cell_type": "code",
   "execution_count": 1,
   "metadata": {},
   "outputs": [],
   "source": [
    "from sympy.physics.mechanics import *\n",
    "import sympy as sp\n",
    "mechanics_printing(pretty_print=True)"
   ]
  },
  {
   "cell_type": "code",
   "execution_count": 2,
   "metadata": {},
   "outputs": [],
   "source": [
    "m1,m2,m3,l01,l02,l03,k1,k2,k3 = sp.symbols(r'm_1,m_2,m_3,l_{0\\,1},l_{0\\,2},l_{0\\,3},k_1,k_2,k_3')\n",
    "t,g = sp.symbols('t,g')\n",
    "x1, x2, x3, y1, y2, y3 = dynamicsymbols('x_1 x_2 x_3 y_1 y_2 y_3')\n",
    "dx1, dx2, dx3, dy1, dy2, dy3 = dynamicsymbols('x_1 x_2 x_3 y_1 y_2 y_3', 1)"
   ]
  },
  {
   "cell_type": "code",
   "execution_count": 3,
   "metadata": {},
   "outputs": [],
   "source": [
    "V = m1*g*y1+m2*g*y2+m3*g*y3+sp.Rational(1,2)*k1*(sp.sqrt(x1**2+y1**2)-l01)**2+sp.Rational(1,2)*k2*(sp.sqrt((x2-x1)**2+(y2-y1)**2)-l02)**2+sp.Rational(1,2)*k3*(sp.sqrt((x3-x2)**2+(y3-y2)**2)-l03)**2\n",
    "T = sp.Rational(1,2)*m1*(dx1**2+dy1**2)+sp.Rational(1,2)*m2*(dx2**2+dy2**2)+sp.Rational(1,2)*m3*(dx3**2+dy3**2)\n",
    "L = sp.simplify(T - V)"
   ]
  },
  {
   "cell_type": "code",
   "execution_count": 4,
   "metadata": {},
   "outputs": [],
   "source": [
    "LM = LagrangesMethod(L, [x1, y1, x2, y2, x3, y3])"
   ]
  },
  {
   "cell_type": "code",
   "execution_count": 5,
   "metadata": {},
   "outputs": [],
   "source": [
    "soln = LM.form_lagranges_equations()"
   ]
  },
  {
   "cell_type": "code",
   "execution_count": 6,
   "metadata": {},
   "outputs": [],
   "source": [
    "solvedsoln = sp.solve((sp.Eq(soln[0]),sp.Eq(soln[1]),sp.Eq(soln[2]),sp.Eq(soln[3]),sp.Eq(soln[4]),sp.Eq(soln[5])),(x1.diff(t,t),y1.diff(t,t),x2.diff(t,t),y2.diff(t,t),x3.diff(t,t),y3.diff(t,t)))"
   ]
  },
  {
   "cell_type": "code",
   "execution_count": 7,
   "metadata": {},
   "outputs": [
    {
     "data": {
      "image/png": "[encoded data removed]",
      "text/latex": [
       "$$\\left \\{ \\ddot{x}_{1} : \\frac{k_{1} l_{0,1} x_{1}}{m_{1} \\sqrt{x^{2}_{1} + y^{2}_{1}}} - \\frac{k_{1} x_{1}}{m_{1}} + \\frac{k_{2} l_{0,2} x_{1}}{m_{1} \\sqrt{x^{2}_{1} - 2 x_{1} x_{2} + x^{2}_{2} + y^{2}_{1} - 2 y_{1} y_{2} + y^{2}_{2}}} - \\frac{k_{2} l_{0,2} x_{2}}{m_{1} \\sqrt{x^{2}_{1} - 2 x_{1} x_{2} + x^{2}_{2} + y^{2}_{1} - 2 y_{1} y_{2} + y^{2}_{2}}} - \\frac{k_{2} x_{1}}{m_{1}} + \\frac{k_{2} x_{2}}{m_{1}}, \\quad \\ddot{x}_{2} : - \\frac{k_{2} l_{0,2} x_{1}}{m_{2} \\sqrt{x^{2}_{1} - 2 x_{1} x_{2} + x^{2}_{2} + y^{2}_{1} - 2 y_{1} y_{2} + y^{2}_{2}}} + \\frac{k_{2} l_{0,2} x_{2}}{m_{2} \\sqrt{x^{2}_{1} - 2 x_{1} x_{2} + x^{2}_{2} + y^{2}_{1} - 2 y_{1} y_{2} + y^{2}_{2}}} + \\frac{k_{2} x_{1}}{m_{2}} - \\frac{k_{2} x_{2}}{m_{2}} + \\frac{k_{3} l_{0,3} x_{2}}{m_{2} \\sqrt{x^{2}_{2} - 2 x_{2} x_{3} + x^{2}_{3} + y^{2}_{2} - 2 y_{2} y_{3} + y^{2}_{3}}} - \\frac{k_{3} l_{0,3} x_{3}}{m_{2} \\sqrt{x^{2}_{2} - 2 x_{2} x_{3} + x^{2}_{3} + y^{2}_{2} - 2 y_{2} y_{3} + y^{2}_{3}}} - \\frac{k_{3} x_{2}}{m_{2}} + \\frac{k_{3} x_{3}}{m_{2}}, \\quad \\ddot{x}_{3} : - \\frac{k_{3} l_{0,3} x_{2}}{m_{3} \\sqrt{x^{2}_{2} - 2 x_{2} x_{3} + x^{2}_{3} + y^{2}_{2} - 2 y_{2} y_{3} + y^{2}_{3}}} + \\frac{k_{3} l_{0,3} x_{3}}{m_{3} \\sqrt{x^{2}_{2} - 2 x_{2} x_{3} + x^{2}_{3} + y^{2}_{2} - 2 y_{2} y_{3} + y^{2}_{3}}} + \\frac{k_{3} x_{2}}{m_{3}} - \\frac{k_{3} x_{3}}{m_{3}}, \\quad \\ddot{y}_{1} : - g + \\frac{k_{1} l_{0,1} y_{1}}{m_{1} \\sqrt{x^{2}_{1} + y^{2}_{1}}} - \\frac{k_{1} y_{1}}{m_{1}} + \\frac{k_{2} l_{0,2} y_{1}}{m_{1} \\sqrt{x^{2}_{1} - 2 x_{1} x_{2} + x^{2}_{2} + y^{2}_{1} - 2 y_{1} y_{2} + y^{2}_{2}}} - \\frac{k_{2} l_{0,2} y_{2}}{m_{1} \\sqrt{x^{2}_{1} - 2 x_{1} x_{2} + x^{2}_{2} + y^{2}_{1} - 2 y_{1} y_{2} + y^{2}_{2}}} - \\frac{k_{2} y_{1}}{m_{1}} + \\frac{k_{2} y_{2}}{m_{1}}, \\quad \\ddot{y}_{2} : - g - \\frac{k_{2} l_{0,2} y_{1}}{m_{2} \\sqrt{x^{2}_{1} - 2 x_{1} x_{2} + x^{2}_{2} + y^{2}_{1} - 2 y_{1} y_{2} + y^{2}_{2}}} + \\frac{k_{2} l_{0,2} y_{2}}{m_{2} \\sqrt{x^{2}_{1} - 2 x_{1} x_{2} + x^{2}_{2} + y^{2}_{1} - 2 y_{1} y_{2} + y^{2}_{2}}} + \\frac{k_{2} y_{1}}{m_{2}} - \\frac{k_{2} y_{2}}{m_{2}} + \\frac{k_{3} l_{0,3} y_{2}}{m_{2} \\sqrt{x^{2}_{2} - 2 x_{2} x_{3} + x^{2}_{3} + y^{2}_{2} - 2 y_{2} y_{3} + y^{2}_{3}}} - \\frac{k_{3} l_{0,3} y_{3}}{m_{2} \\sqrt{x^{2}_{2} - 2 x_{2} x_{3} + x^{2}_{3} + y^{2}_{2} - 2 y_{2} y_{3} + y^{2}_{3}}} - \\frac{k_{3} y_{2}}{m_{2}} + \\frac{k_{3} y_{3}}{m_{2}}, \\quad \\ddot{y}_{3} : - g - \\frac{k_{3} l_{0,3} y_{2}}{m_{3} \\sqrt{x^{2}_{2} - 2 x_{2} x_{3} + x^{2}_{3} + y^{2}_{2} - 2 y_{2} y_{3} + y^{2}_{3}}} + \\frac{k_{3} l_{0,3} y_{3}}{m_{3} \\sqrt{x^{2}_{2} - 2 x_{2} x_{3} + x^{2}_{3} + y^{2}_{2} - 2 y_{2} y_{3} + y^{2}_{3}}} + \\frac{k_{3} y_{2}}{m_{3}} - \\frac{k_{3} y_{3}}{m_{3}}\\right \\}$$"
      ],
      "text/plain": [
       "⎧       k₁⋅l_{0,1}⋅x₁     k₁⋅x₁                     k₂⋅l_{0,2}⋅x₁             \n",
       "⎪x₁̈: ───────────────── - ───── + ────────────────────────────────────────────\n",
       "⎨           ___________     m₁          ______________________________________\n",
       "⎪          ╱   2     2                 ╱   2               2     2            \n",
       "⎩     m₁⋅╲╱  x₁  + y₁             m₁⋅╲╱  x₁  - 2⋅x₁⋅x₂ + x₂  + y₁  - 2⋅y₁⋅y₂ +\n",
       "\n",
       "                          k₂⋅l_{0,2}⋅x₂                     k₂⋅x₁   k₂⋅x₂     \n",
       "───── - ───────────────────────────────────────────────── - ───── + ─────, x₂̈\n",
       "_____         ___________________________________________     m₁      m₁      \n",
       "   2         ╱   2               2     2               2                      \n",
       " y₂     m₁⋅╲╱  x₁  - 2⋅x₁⋅x₂ + x₂  + y₁  - 2⋅y₁⋅y₂ + y₂                       \n",
       "\n",
       "                      k₂⋅l_{0,2}⋅x₁                                       k₂⋅l\n",
       ": - ───────────────────────────────────────────────── + ──────────────────────\n",
       "          ___________________________________________         ________________\n",
       "         ╱   2               2     2               2         ╱   2            \n",
       "    m₂⋅╲╱  x₁  - 2⋅x₁⋅x₂ + x₂  + y₁  - 2⋅y₁⋅y₂ + y₂     m₂⋅╲╱  x₁  - 2⋅x₁⋅x₂ +\n",
       "\n",
       "_{0,2}⋅x₂                     k₂⋅x₁   k₂⋅x₂                     k₃⋅l_{0,3}⋅x₂ \n",
       "─────────────────────────── + ───── - ───── + ────────────────────────────────\n",
       "___________________________     m₂      m₂          __________________________\n",
       "   2     2               2                         ╱   2               2     2\n",
       " x₂  + y₁  - 2⋅y₁⋅y₂ + y₂                     m₂⋅╲╱  x₂  - 2⋅x₂⋅x₃ + x₃  + y₂ \n",
       "\n",
       "                                      k₃⋅l_{0,3}⋅x₃                     k₃⋅x₂ \n",
       "───────────────── - ───────────────────────────────────────────────── - ───── \n",
       "_________________         ___________________________________________     m₂  \n",
       "               2         ╱   2               2     2               2          \n",
       " - 2⋅y₂⋅y₃ + y₃     m₂⋅╲╱  x₂  - 2⋅x₂⋅x₃ + x₃  + y₂  - 2⋅y₂⋅y₃ + y₃           \n",
       "\n",
       "  k₃⋅x₃                           k₃⋅l_{0,3}⋅x₂                               \n",
       "+ ─────, x₃̈: - ───────────────────────────────────────────────── + ──────────\n",
       "    m₂                ___________________________________________         ____\n",
       "                     ╱   2               2     2               2         ╱   2\n",
       "                m₃⋅╲╱  x₂  - 2⋅x₂⋅x₃ + x₃  + y₂  - 2⋅y₂⋅y₃ + y₃     m₃⋅╲╱  x₂ \n",
       "\n",
       "        k₃⋅l_{0,3}⋅x₃                     k₃⋅x₂   k₃⋅x₃              k₁⋅l_{0,1\n",
       "─────────────────────────────────────── + ───── - ─────, y₁̈: -g + ───────────\n",
       "_______________________________________     m₃      m₃                   _____\n",
       "               2     2               2                                  ╱   2 \n",
       " - 2⋅x₂⋅x₃ + x₃  + y₂  - 2⋅y₂⋅y₃ + y₃                              m₁⋅╲╱  x₁  \n",
       "\n",
       "}⋅y₁     k₁⋅y₁                     k₂⋅l_{0,2}⋅y₁                              \n",
       "────── - ───── + ───────────────────────────────────────────────── - ─────────\n",
       "______     m₁          ___________________________________________         ___\n",
       "    2                 ╱   2               2     2               2         ╱   \n",
       "+ y₁             m₁⋅╲╱  x₁  - 2⋅x₁⋅x₂ + x₂  + y₁  - 2⋅y₁⋅y₂ + y₂     m₁⋅╲╱  x₁\n",
       "\n",
       "         k₂⋅l_{0,2}⋅y₂                     k₂⋅y₁   k₂⋅y₂                      \n",
       "──────────────────────────────────────── - ───── + ─────, y₂̈: -g - ──────────\n",
       "________________________________________     m₁      m₁                   ____\n",
       "2               2     2               2                                  ╱   2\n",
       "  - 2⋅x₁⋅x₂ + x₂  + y₁  - 2⋅y₁⋅y₂ + y₂                              m₂⋅╲╱  x₁ \n",
       "\n",
       "        k₂⋅l_{0,2}⋅y₁                                       k₂⋅l_{0,2}⋅y₂     \n",
       "─────────────────────────────────────── + ────────────────────────────────────\n",
       "_______________________________________         ______________________________\n",
       "               2     2               2         ╱   2               2     2    \n",
       " - 2⋅x₁⋅x₂ + x₂  + y₁  - 2⋅y₁⋅y₂ + y₂     m₂⋅╲╱  x₁  - 2⋅x₁⋅x₂ + x₂  + y₁  - 2\n",
       "\n",
       "                k₂⋅y₁   k₂⋅y₂                     k₃⋅l_{0,3}⋅y₂               \n",
       "───────────── + ───── - ───── + ──────────────────────────────────────────────\n",
       "_____________     m₂      m₂          ________________________________________\n",
       "           2                         ╱   2               2     2              \n",
       "⋅y₁⋅y₂ + y₂                     m₂⋅╲╱  x₂  - 2⋅x₂⋅x₃ + x₃  + y₂  - 2⋅y₂⋅y₃ + y\n",
       "\n",
       "                        k₃⋅l_{0,3}⋅y₃                     k₃⋅y₂   k₃⋅y₃       \n",
       "─── - ───────────────────────────────────────────────── - ───── + ─────, y₃̈: \n",
       "___         ___________________________________________     m₂      m₂        \n",
       " 2         ╱   2               2     2               2                        \n",
       "₃     m₂⋅╲╱  x₂  - 2⋅x₂⋅x₃ + x₃  + y₂  - 2⋅y₂⋅y₃ + y₃                         \n",
       "\n",
       "                       k₃⋅l_{0,3}⋅y₂                                       k₃⋅\n",
       "-g - ───────────────────────────────────────────────── + ─────────────────────\n",
       "           ___________________________________________         _______________\n",
       "          ╱   2               2     2               2         ╱   2           \n",
       "     m₃⋅╲╱  x₂  - 2⋅x₂⋅x₃ + x₃  + y₂  - 2⋅y₂⋅y₃ + y₃     m₃⋅╲╱  x₂  - 2⋅x₂⋅x₃ \n",
       "\n",
       "l_{0,3}⋅y₃                     k₃⋅y₂   k₃⋅y₃⎫\n",
       "──────────────────────────── + ───── - ─────⎪\n",
       "____________________________     m₃      m₃ ⎬\n",
       "    2     2               2                 ⎪\n",
       "+ x₃  + y₂  - 2⋅y₂⋅y₃ + y₃                  ⎭"
      ]
     },
     "execution_count": 7,
     "metadata": {},
     "output_type": "execute_result"
    }
   ],
   "source": [
    "solvedsoln"
   ]
  },
  {
   "cell_type": "markdown",
   "metadata": {},
   "source": [
    "\\\\[\n",
    "\\ddot{x}_1 = \n",
    "\\frac{k_2}{m_1}(x_2-x_1)\\left(1-\\frac{l_{0,2}}{\\sqrt{(x_2-x_1)^2+(y_2-y_1)^2}}\\right)\n",
    "+\\frac{k_1}{m_1}x_1\\left(\\frac{l_{0,1}}{-1+\\sqrt{x^2_1+y^2_1}}\\right)\n",
    "\\\\]\n",
    "\n",
    "\\\\[\n",
    "\\ddot{x}_2 = \n",
    "\\frac{k_2}{m_2}(x_2-x_1)\\left(-1+\\frac{l_{0,2}}{\\sqrt{(x_2-x_1)^2+(y_2-y_1)^2}}\\right)\n",
    "+\\frac{k_3}{m_2}(x_3-x_2)\\left(1-\\frac{l_{0,3}}{\\sqrt{(x_3-x_2)^2+(y_3-y_2)^2}}\\right)\n",
    "\\\\]\n",
    "\n",
    "\\\\[\n",
    "\\ddot{x}_3 = \\frac{k_3}{m_3}(x_3-x_2)\\left(-1+\\frac{l_{0,3}}{\\sqrt{(x_3-x_2)^2+(y_3-y_2)^2}}\\right)\n",
    "\\\\]\n",
    "\n",
    "\\\\[\n",
    "\\ddot{y}_1 = -g+\\frac{k_1}{m_1}y_1\\left(\\frac{l_{0,1}}{\\sqrt{x^2_1+y^2_1}}-1\\right)\n",
    "+\\frac{k_2}{m_1}(y_2-y_1)\\left(1-\\frac{l_{0,2}}{\\sqrt{(x_2-x_1)^2+(y_2-y_1)^2}}\\right)\n",
    "\\\\]\n",
    "\n",
    "\\\\[\n",
    "\\ddot{y}_2 = -g+\\frac{k_2}{m_2}(y_2-y_1)\\left(-1+\\frac{l_{0,2}}{\\sqrt{(x_2-x_1)^2+(y_2-y_1)^2}}\\right)\n",
    "+\\frac{k_3}{m_2}(y_3-y_2)\\left(1-\\frac{l_{0,3}}{\\sqrt{(x_3-x_2)^2+(y_3-y_2)^2}}\\right)\n",
    "\\\\]\n",
    "\n",
    "\\\\[\n",
    "\\ddot{y}_3 = -g+\\frac{k_3}{m_3}(y_3-y_2)\\left(-1+\\frac{l_{0,3}}{\\sqrt{(x_3-x_2)^2+(y_3-y_2)^2}}\\right)\n",
    "\\\\]"
   ]
  },
  {
   "cell_type": "code",
   "execution_count": null,
   "metadata": {},
   "outputs": [],
   "source": []
  }
 ],
 "metadata": {
  "kernelspec": {
   "display_name": "Python 3",
   "language": "python",
   "name": "python3"
  },
  "language_info": {
   "codemirror_mode": {
    "name": "ipython",
    "version": 3
   },
   "file_extension": ".py",
   "mimetype": "text/x-python",
   "name": "python",
   "nbconvert_exporter": "python",
   "pygments_lexer": "ipython3",
   "version": "3.7.3"
  }
 },
 "nbformat": 4,
 "nbformat_minor": 2
}
