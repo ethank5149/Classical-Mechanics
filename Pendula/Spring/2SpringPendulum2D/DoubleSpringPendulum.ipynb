{
 "cells": [
  {
   "cell_type": "code",
   "execution_count": 1,
   "metadata": {},
   "outputs": [],
   "source": [
    "from sympy.physics.mechanics import *\n",
    "import sympy as sp\n",
    "mechanics_printing(pretty_print=True)"
   ]
  },
  {
   "cell_type": "code",
   "execution_count": 2,
   "metadata": {},
   "outputs": [],
   "source": [
    "m1,m2,l01,l02,k1,k2 = sp.symbols(r'm_1,m_2,l_{0\\,1},l_{0\\,2},k_1,k_2')\n",
    "t,g = sp.symbols('t,g')\n",
    "x1, x2, y1, y2 = dynamicsymbols('x_1 x_2 y_1 y_2')\n",
    "dx1, dx2, dy1, dy2 = dynamicsymbols('x_1 x_2 y_1 y_2', 1)"
   ]
  },
  {
   "cell_type": "code",
   "execution_count": 3,
   "metadata": {},
   "outputs": [],
   "source": [
    "V = m1*g*y1+m2*g*y2+sp.Rational(1,2)*k1*(sp.sqrt(x1**2+y1**2)-l01)**2+sp.Rational(1,2)*k2*(sp.sqrt((x2-x1)**2+(y2-y1)**2)-l02)**2\n",
    "T = sp.Rational(1,2)*m1*(dx1**2+dy1**2)+sp.Rational(1,2)*m2*(dx2**2+dy2**2)\n",
    "L = sp.simplify(T - V)"
   ]
  },
  {
   "cell_type": "code",
   "execution_count": 8,
   "metadata": {},
   "outputs": [],
   "source": [
    "LM = LagrangesMethod(L, [x1, y1, x2, y2])"
   ]
  },
  {
   "cell_type": "code",
   "execution_count": 9,
   "metadata": {},
   "outputs": [],
   "source": [
    "soln = LM.form_lagranges_equations()"
   ]
  },
  {
   "cell_type": "code",
   "execution_count": 10,
   "metadata": {},
   "outputs": [],
   "source": [
    "solvedsoln = sp.solve((sp.Eq(soln[0]),sp.Eq(soln[1]),sp.Eq(soln[2]),sp.Eq(soln[3])),(x1.diff(t,t),y1.diff(t,t),x2.diff(t,t),y2.diff(t,t)))"
   ]
  },
  {
   "cell_type": "code",
   "execution_count": null,
   "metadata": {},
   "outputs": [],
   "source": []
  },
  {
   "cell_type": "code",
   "execution_count": 11,
   "metadata": {},
   "outputs": [
    {
     "data": {
      "text/plain": "'\\\\left \\\\{ \\\\frac{d^{2}}{d t^{2}} \\\\operatorname{x_{1}}{\\\\left (t \\\\right )} : \\\\frac{k_{1} l_{0,1} \\\\operatorname{x_{1}}{\\\\left (t \\\\right )}}{m_{1} \\\\sqrt{\\\\operatorname{x_{1}}^{2}{\\\\left (t \\\\right )} + \\\\operatorname{y_{1}}^{2}{\\\\left (t \\\\right )}}} - \\\\frac{k_{1} \\\\operatorname{x_{1}}{\\\\left (t \\\\right )}}{m_{1}} + \\\\frac{k_{2} l_{0,2} \\\\operatorname{x_{1}}{\\\\left (t \\\\right )}}{m_{1} \\\\sqrt{\\\\operatorname{x_{1}}^{2}{\\\\left (t \\\\right )} - 2 \\\\operatorname{x_{1}}{\\\\left (t \\\\right )} \\\\operatorname{x_{2}}{\\\\left (t \\\\right )} + \\\\operatorname{x_{2}}^{2}{\\\\left (t \\\\right )} + \\\\operatorname{y_{1}}^{2}{\\\\left (t \\\\right )} - 2 \\\\operatorname{y_{1}}{\\\\left (t \\\\right )} \\\\operatorname{y_{2}}{\\\\left (t \\\\right )} + \\\\operatorname{y_{2}}^{2}{\\\\left (t \\\\right )}}} - \\\\frac{k_{2} l_{0,2} \\\\operatorname{x_{2}}{\\\\left (t \\\\right )}}{m_{1} \\\\sqrt{\\\\operatorname{x_{1}}^{2}{\\\\left (t \\\\right )} - 2 \\\\operatorname{x_{1}}{\\\\left (t \\\\right )} \\\\operatorname{x_{2}}{\\\\left (t \\\\right )} + \\\\operatorname{x_{2}}^{2}{\\\\left (t \\\\right )} + \\\\operatorname{y_{1}}^{2}{\\\\left (t \\\\right )} - 2 \\\\operatorname{y_{1}}{\\\\left (t \\\\right )} \\\\operatorname{y_{2}}{\\\\left (t \\\\right )} + \\\\operatorname{y_{2}}^{2}{\\\\left (t \\\\right )}}} - \\\\frac{k_{2} \\\\operatorname{x_{1}}{\\\\left (t \\\\right )}}{m_{1}} + \\\\frac{k_{2} \\\\operatorname{x_{2}}{\\\\left (t \\\\right )}}{m_{1}}, \\\\quad \\\\frac{d^{2}}{d t^{2}} \\\\operatorname{x_{2}}{\\\\left (t \\\\right )} : - \\\\frac{k_{2} l_{0,2} \\\\operatorname{x_{1}}{\\\\left (t \\\\right )}}{m_{2} \\\\sqrt{\\\\operatorname{x_{1}}^{2}{\\\\left (t \\\\right )} - 2 \\\\operatorname{x_{1}}{\\\\left (t \\\\right )} \\\\operatorname{x_{2}}{\\\\left (t \\\\right )} + \\\\operatorname{x_{2}}^{2}{\\\\left (t \\\\right )} + \\\\operatorname{y_{1}}^{2}{\\\\left (t \\\\right )} - 2 \\\\operatorname{y_{1}}{\\\\left (t \\\\right )} \\\\operatorname{y_{2}}{\\\\left (t \\\\right )} + \\\\operatorname{y_{2}}^{2}{\\\\left (t \\\\right )}}} + \\\\frac{k_{2} l_{0,2} \\\\operatorname{x_{2}}{\\\\left (t \\\\right )}}{m_{2} \\\\sqrt{\\\\operatorname{x_{1}}^{2}{\\\\left (t \\\\right )} - 2 \\\\operatorname{x_{1}}{\\\\left (t \\\\right )} \\\\operatorname{x_{2}}{\\\\left (t \\\\right )} + \\\\operatorname{x_{2}}^{2}{\\\\left (t \\\\right )} + \\\\operatorname{y_{1}}^{2}{\\\\left (t \\\\right )} - 2 \\\\operatorname{y_{1}}{\\\\left (t \\\\right )} \\\\operatorname{y_{2}}{\\\\left (t \\\\right )} + \\\\operatorname{y_{2}}^{2}{\\\\left (t \\\\right )}}} + \\\\frac{k_{2} \\\\operatorname{x_{1}}{\\\\left (t \\\\right )}}{m_{2}} - \\\\frac{k_{2} \\\\operatorname{x_{2}}{\\\\left (t \\\\right )}}{m_{2}}, \\\\quad \\\\frac{d^{2}}{d t^{2}} \\\\operatorname{y_{1}}{\\\\left (t \\\\right )} : - g + \\\\frac{k_{1} l_{0,1} \\\\operatorname{y_{1}}{\\\\left (t \\\\right )}}{m_{1} \\\\sqrt{\\\\operatorname{x_{1}}^{2}{\\\\left (t \\\\right )} + \\\\operatorname{y_{1}}^{2}{\\\\left (t \\\\right )}}} - \\\\frac{k_{1} \\\\operatorname{y_{1}}{\\\\left (t \\\\right )}}{m_{1}} + \\\\frac{k_{2} l_{0,2} \\\\operatorname{y_{1}}{\\\\left (t \\\\right )}}{m_{1} \\\\sqrt{\\\\operatorname{x_{1}}^{2}{\\\\left (t \\\\right )} - 2 \\\\operatorname{x_{1}}{\\\\left (t \\\\right )} \\\\operatorname{x_{2}}{\\\\left (t \\\\right )} + \\\\operatorname{x_{2}}^{2}{\\\\left (t \\\\right )} + \\\\operatorname{y_{1}}^{2}{\\\\left (t \\\\right )} - 2 \\\\operatorname{y_{1}}{\\\\left (t \\\\right )} \\\\operatorname{y_{2}}{\\\\left (t \\\\right )} + \\\\operatorname{y_{2}}^{2}{\\\\left (t \\\\right )}}} - \\\\frac{k_{2} l_{0,2} \\\\operatorname{y_{2}}{\\\\left (t \\\\right )}}{m_{1} \\\\sqrt{\\\\operatorname{x_{1}}^{2}{\\\\left (t \\\\right )} - 2 \\\\operatorname{x_{1}}{\\\\left (t \\\\right )} \\\\operatorname{x_{2}}{\\\\left (t \\\\right )} + \\\\operatorname{x_{2}}^{2}{\\\\left (t \\\\right )} + \\\\operatorname{y_{1}}^{2}{\\\\left (t \\\\right )} - 2 \\\\operatorname{y_{1}}{\\\\left (t \\\\right )} \\\\operatorname{y_{2}}{\\\\left (t \\\\right )} + \\\\operatorname{y_{2}}^{2}{\\\\left (t \\\\right )}}} - \\\\frac{k_{2} \\\\operatorname{y_{1}}{\\\\left (t \\\\right )}}{m_{1}} + \\\\frac{k_{2} \\\\operatorname{y_{2}}{\\\\left (t \\\\right )}}{m_{1}}, \\\\quad \\\\frac{d^{2}}{d t^{2}} \\\\operatorname{y_{2}}{\\\\left (t \\\\right )} : - g - \\\\frac{k_{2} l_{0,2} \\\\operatorname{y_{1}}{\\\\left (t \\\\right )}}{m_{2} \\\\sqrt{\\\\operatorname{x_{1}}^{2}{\\\\left (t \\\\right )} - 2 \\\\operatorname{x_{1}}{\\\\left (t \\\\right )} \\\\operatorname{x_{2}}{\\\\left (t \\\\right )} + \\\\operatorname{x_{2}}^{2}{\\\\left (t \\\\right )} + \\\\operatorname{y_{1}}^{2}{\\\\left (t \\\\right )} - 2 \\\\operatorname{y_{1}}{\\\\left (t \\\\right )} \\\\operatorname{y_{2}}{\\\\left (t \\\\right )} + \\\\operatorname{y_{2}}^{2}{\\\\left (t \\\\right )}}} + \\\\frac{k_{2} l_{0,2} \\\\operatorname{y_{2}}{\\\\left (t \\\\right )}}{m_{2} \\\\sqrt{\\\\operatorname{x_{1}}^{2}{\\\\left (t \\\\right )} - 2 \\\\operatorname{x_{1}}{\\\\left (t \\\\right )} \\\\operatorname{x_{2}}{\\\\left (t \\\\right )} + \\\\operatorname{x_{2}}^{2}{\\\\left (t \\\\right )} + \\\\operatorname{y_{1}}^{2}{\\\\left (t \\\\right )} - 2 \\\\operatorname{y_{1}}{\\\\left (t \\\\right )} \\\\operatorname{y_{2}}{\\\\left (t \\\\right )} + \\\\operatorname{y_{2}}^{2}{\\\\left (t \\\\right )}}} + \\\\frac{k_{2} \\\\operatorname{y_{1}}{\\\\left (t \\\\right )}}{m_{2}} - \\\\frac{k_{2} \\\\operatorname{y_{2}}{\\\\left (t \\\\right )}}{m_{2}}\\\\right \\\\}'"
     },
     "execution_count": 11,
     "metadata": {},
     "output_type": "execute_result"
    }
   ],
   "source": [
    "sp.latex(solvedsoln)"
   ]
  },
  {
   "cell_type": "code",
   "execution_count": null,
   "metadata": {},
   "outputs": [],
   "source": []
  }
 ],
 "metadata": {
  "kernelspec": {
   "display_name": "Python 3",
   "language": "python",
   "name": "python3"
  },
  "language_info": {
   "codemirror_mode": {
    "name": "ipython",
    "version": 3
   },
   "file_extension": ".py",
   "mimetype": "text/x-python",
   "name": "python",
   "nbconvert_exporter": "python",
   "pygments_lexer": "ipython3",
   "version": "3.7.3-final"
  }
 },
 "nbformat": 4,
 "nbformat_minor": 2
}